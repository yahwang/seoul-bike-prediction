{
 "cells": [
  {
   "cell_type": "markdown",
   "metadata": {
    "colab_type": "text",
    "id": "CNApR4S3w4d_"
   },
   "source": [
    "## 모델용 데이터 만들기"
   ]
  },
  {
   "cell_type": "markdown",
   "metadata": {},
   "source": [
    "### 데이터 정리"
   ]
  },
  {
   "cell_type": "code",
   "execution_count": null,
   "metadata": {
    "colab": {},
    "colab_type": "code",
    "id": "fgmpQXshw1BG"
   },
   "outputs": [],
   "source": [
    "bike_df = pd.read_csv('bike_train_2.csv')\n",
    "bike_df = bike_df[['rent_place_num','rent_time','holder','rent_freq']]"
   ]
  },
  {
   "cell_type": "code",
   "execution_count": null,
   "metadata": {
    "colab": {
     "base_uri": "https://localhost:8080/",
     "height": 204
    },
    "colab_type": "code",
    "executionInfo": {
     "elapsed": 364,
     "status": "ok",
     "timestamp": 1544726577562,
     "user": {
      "displayName": "Ya Hwang",
      "photoUrl": "",
      "userId": "13119883512152578788"
     },
     "user_tz": -540
    },
    "id": "UTl4uciqywlp",
    "outputId": "c351bace-228d-4a5b-df44-ca119425b43f"
   },
   "outputs": [
    {
     "data": {
      "text/html": [
       "<div>\n",
       "<style scoped>\n",
       "    .dataframe tbody tr th:only-of-type {\n",
       "        vertical-align: middle;\n",
       "    }\n",
       "\n",
       "    .dataframe tbody tr th {\n",
       "        vertical-align: top;\n",
       "    }\n",
       "\n",
       "    .dataframe thead th {\n",
       "        text-align: right;\n",
       "    }\n",
       "</style>\n",
       "<table border=\"1\" class=\"dataframe\">\n",
       "  <thead>\n",
       "    <tr style=\"text-align: right;\">\n",
       "      <th></th>\n",
       "      <th>rent_place_num</th>\n",
       "      <th>rent_time</th>\n",
       "      <th>holder</th>\n",
       "      <th>rent_freq</th>\n",
       "    </tr>\n",
       "  </thead>\n",
       "  <tbody>\n",
       "    <tr>\n",
       "      <th>0</th>\n",
       "      <td>422</td>\n",
       "      <td>2017-06-01 00</td>\n",
       "      <td>0</td>\n",
       "      <td>0.0</td>\n",
       "    </tr>\n",
       "    <tr>\n",
       "      <th>1</th>\n",
       "      <td>422</td>\n",
       "      <td>2017-06-01 01</td>\n",
       "      <td>0</td>\n",
       "      <td>0.0</td>\n",
       "    </tr>\n",
       "    <tr>\n",
       "      <th>2</th>\n",
       "      <td>422</td>\n",
       "      <td>2017-06-01 02</td>\n",
       "      <td>0</td>\n",
       "      <td>0.0</td>\n",
       "    </tr>\n",
       "    <tr>\n",
       "      <th>3</th>\n",
       "      <td>422</td>\n",
       "      <td>2017-06-01 03</td>\n",
       "      <td>0</td>\n",
       "      <td>0.0</td>\n",
       "    </tr>\n",
       "    <tr>\n",
       "      <th>4</th>\n",
       "      <td>422</td>\n",
       "      <td>2017-06-01 04</td>\n",
       "      <td>0</td>\n",
       "      <td>0.0</td>\n",
       "    </tr>\n",
       "  </tbody>\n",
       "</table>\n",
       "</div>"
      ],
      "text/plain": [
       "   rent_place_num      rent_time  holder  rent_freq\n",
       "0             422  2017-06-01 00       0        0.0\n",
       "1             422  2017-06-01 01       0        0.0\n",
       "2             422  2017-06-01 02       0        0.0\n",
       "3             422  2017-06-01 03       0        0.0\n",
       "4             422  2017-06-01 04       0        0.0"
      ]
     },
     "execution_count": 60,
     "metadata": {
      "tags": []
     },
     "output_type": "execute_result"
    }
   ],
   "source": [
    "bike_df.head()"
   ]
  },
  {
   "cell_type": "code",
   "execution_count": null,
   "metadata": {
    "colab": {},
    "colab_type": "code",
    "id": "lIMfmiDtyyQE"
   },
   "outputs": [],
   "source": [
    "bef_df = pd.read_csv('bike_train_0.csv')\n",
    "bef_df = bef_df.groupby(['rent_place_num','rent_time']).sum()\n",
    "bef_df=bef_df.reset_index()"
   ]
  },
  {
   "cell_type": "code",
   "execution_count": null,
   "metadata": {
    "colab": {
     "base_uri": "https://localhost:8080/",
     "height": 204
    },
    "colab_type": "code",
    "executionInfo": {
     "elapsed": 629,
     "status": "ok",
     "timestamp": 1544726584563,
     "user": {
      "displayName": "Ya Hwang",
      "photoUrl": "",
      "userId": "13119883512152578788"
     },
     "user_tz": -540
    },
    "id": "OGVCFwVy05ys",
    "outputId": "3ca64f26-2ef8-4011-f1c6-be0d82e18196"
   },
   "outputs": [
    {
     "data": {
      "text/html": [
       "<div>\n",
       "<style scoped>\n",
       "    .dataframe tbody tr th:only-of-type {\n",
       "        vertical-align: middle;\n",
       "    }\n",
       "\n",
       "    .dataframe tbody tr th {\n",
       "        vertical-align: top;\n",
       "    }\n",
       "\n",
       "    .dataframe thead th {\n",
       "        text-align: right;\n",
       "    }\n",
       "</style>\n",
       "<table border=\"1\" class=\"dataframe\">\n",
       "  <thead>\n",
       "    <tr style=\"text-align: right;\">\n",
       "      <th></th>\n",
       "      <th>rent_place_num</th>\n",
       "      <th>rent_time</th>\n",
       "      <th>rent_freq</th>\n",
       "      <th>holder</th>\n",
       "    </tr>\n",
       "  </thead>\n",
       "  <tbody>\n",
       "    <tr>\n",
       "      <th>0</th>\n",
       "      <td>101</td>\n",
       "      <td>2017-05-31 20</td>\n",
       "      <td>2</td>\n",
       "      <td>1000</td>\n",
       "    </tr>\n",
       "    <tr>\n",
       "      <th>1</th>\n",
       "      <td>101</td>\n",
       "      <td>2017-05-31 21</td>\n",
       "      <td>1</td>\n",
       "      <td>1000</td>\n",
       "    </tr>\n",
       "    <tr>\n",
       "      <th>2</th>\n",
       "      <td>101</td>\n",
       "      <td>2017-05-31 22</td>\n",
       "      <td>2</td>\n",
       "      <td>2000</td>\n",
       "    </tr>\n",
       "    <tr>\n",
       "      <th>3</th>\n",
       "      <td>101</td>\n",
       "      <td>2017-05-31 23</td>\n",
       "      <td>2</td>\n",
       "      <td>2000</td>\n",
       "    </tr>\n",
       "    <tr>\n",
       "      <th>4</th>\n",
       "      <td>102</td>\n",
       "      <td>2017-05-31 20</td>\n",
       "      <td>2</td>\n",
       "      <td>2000</td>\n",
       "    </tr>\n",
       "  </tbody>\n",
       "</table>\n",
       "</div>"
      ],
      "text/plain": [
       "   rent_place_num      rent_time  rent_freq  holder\n",
       "0             101  2017-05-31 20          2    1000\n",
       "1             101  2017-05-31 21          1    1000\n",
       "2             101  2017-05-31 22          2    2000\n",
       "3             101  2017-05-31 23          2    2000\n",
       "4             102  2017-05-31 20          2    2000"
      ]
     },
     "execution_count": 65,
     "metadata": {
      "tags": []
     },
     "output_type": "execute_result"
    }
   ],
   "source": [
    "bef_df.head()"
   ]
  },
  {
   "cell_type": "code",
   "execution_count": null,
   "metadata": {
    "colab": {},
    "colab_type": "code",
    "id": "-GEsWaGlzCWD"
   },
   "outputs": [],
   "source": [
    "final_df = pd.concat([bef_df,bike_df])\n",
    "final_df.sort_values(by=['rent_place_num','rent_time'], inplace=True)\n",
    "final_df.reset_index(drop=True, inplace=True)"
   ]
  },
  {
   "cell_type": "code",
   "execution_count": null,
   "metadata": {
    "colab": {
     "base_uri": "https://localhost:8080/",
     "height": 979
    },
    "colab_type": "code",
    "executionInfo": {
     "elapsed": 500,
     "status": "ok",
     "timestamp": 1544726593429,
     "user": {
      "displayName": "Ya Hwang",
      "photoUrl": "",
      "userId": "13119883512152578788"
     },
     "user_tz": -540
    },
    "id": "SrbTKXoXzECv",
    "outputId": "f6090c12-8f59-478c-fc2b-ed5793b97ff7"
   },
   "outputs": [
    {
     "data": {
      "text/html": [
       "<div>\n",
       "<style scoped>\n",
       "    .dataframe tbody tr th:only-of-type {\n",
       "        vertical-align: middle;\n",
       "    }\n",
       "\n",
       "    .dataframe tbody tr th {\n",
       "        vertical-align: top;\n",
       "    }\n",
       "\n",
       "    .dataframe thead th {\n",
       "        text-align: right;\n",
       "    }\n",
       "</style>\n",
       "<table border=\"1\" class=\"dataframe\">\n",
       "  <thead>\n",
       "    <tr style=\"text-align: right;\">\n",
       "      <th></th>\n",
       "      <th>holder</th>\n",
       "      <th>rent_freq</th>\n",
       "      <th>rent_place_num</th>\n",
       "      <th>rent_time</th>\n",
       "    </tr>\n",
       "  </thead>\n",
       "  <tbody>\n",
       "    <tr>\n",
       "      <th>0</th>\n",
       "      <td>1000</td>\n",
       "      <td>2.0</td>\n",
       "      <td>101</td>\n",
       "      <td>2017-05-31 20</td>\n",
       "    </tr>\n",
       "    <tr>\n",
       "      <th>1</th>\n",
       "      <td>1000</td>\n",
       "      <td>1.0</td>\n",
       "      <td>101</td>\n",
       "      <td>2017-05-31 21</td>\n",
       "    </tr>\n",
       "    <tr>\n",
       "      <th>2</th>\n",
       "      <td>2000</td>\n",
       "      <td>2.0</td>\n",
       "      <td>101</td>\n",
       "      <td>2017-05-31 22</td>\n",
       "    </tr>\n",
       "    <tr>\n",
       "      <th>3</th>\n",
       "      <td>2000</td>\n",
       "      <td>2.0</td>\n",
       "      <td>101</td>\n",
       "      <td>2017-05-31 23</td>\n",
       "    </tr>\n",
       "    <tr>\n",
       "      <th>4</th>\n",
       "      <td>2000</td>\n",
       "      <td>2.0</td>\n",
       "      <td>102</td>\n",
       "      <td>2017-05-31 20</td>\n",
       "    </tr>\n",
       "    <tr>\n",
       "      <th>5</th>\n",
       "      <td>4000</td>\n",
       "      <td>5.0</td>\n",
       "      <td>102</td>\n",
       "      <td>2017-05-31 21</td>\n",
       "    </tr>\n",
       "    <tr>\n",
       "      <th>6</th>\n",
       "      <td>5000</td>\n",
       "      <td>7.0</td>\n",
       "      <td>102</td>\n",
       "      <td>2017-05-31 22</td>\n",
       "    </tr>\n",
       "    <tr>\n",
       "      <th>7</th>\n",
       "      <td>4000</td>\n",
       "      <td>5.0</td>\n",
       "      <td>102</td>\n",
       "      <td>2017-05-31 23</td>\n",
       "    </tr>\n",
       "    <tr>\n",
       "      <th>8</th>\n",
       "      <td>3000</td>\n",
       "      <td>5.0</td>\n",
       "      <td>103</td>\n",
       "      <td>2017-05-31 20</td>\n",
       "    </tr>\n",
       "    <tr>\n",
       "      <th>9</th>\n",
       "      <td>6000</td>\n",
       "      <td>9.0</td>\n",
       "      <td>103</td>\n",
       "      <td>2017-05-31 21</td>\n",
       "    </tr>\n",
       "    <tr>\n",
       "      <th>10</th>\n",
       "      <td>3000</td>\n",
       "      <td>3.0</td>\n",
       "      <td>103</td>\n",
       "      <td>2017-05-31 22</td>\n",
       "    </tr>\n",
       "    <tr>\n",
       "      <th>11</th>\n",
       "      <td>1000</td>\n",
       "      <td>2.0</td>\n",
       "      <td>103</td>\n",
       "      <td>2017-05-31 23</td>\n",
       "    </tr>\n",
       "    <tr>\n",
       "      <th>12</th>\n",
       "      <td>4000</td>\n",
       "      <td>4.0</td>\n",
       "      <td>104</td>\n",
       "      <td>2017-05-31 20</td>\n",
       "    </tr>\n",
       "    <tr>\n",
       "      <th>13</th>\n",
       "      <td>3000</td>\n",
       "      <td>3.0</td>\n",
       "      <td>104</td>\n",
       "      <td>2017-05-31 21</td>\n",
       "    </tr>\n",
       "    <tr>\n",
       "      <th>14</th>\n",
       "      <td>5000</td>\n",
       "      <td>6.0</td>\n",
       "      <td>104</td>\n",
       "      <td>2017-05-31 22</td>\n",
       "    </tr>\n",
       "    <tr>\n",
       "      <th>15</th>\n",
       "      <td>4000</td>\n",
       "      <td>4.0</td>\n",
       "      <td>105</td>\n",
       "      <td>2017-05-31 20</td>\n",
       "    </tr>\n",
       "    <tr>\n",
       "      <th>16</th>\n",
       "      <td>3000</td>\n",
       "      <td>3.0</td>\n",
       "      <td>105</td>\n",
       "      <td>2017-05-31 22</td>\n",
       "    </tr>\n",
       "    <tr>\n",
       "      <th>17</th>\n",
       "      <td>6000</td>\n",
       "      <td>8.0</td>\n",
       "      <td>106</td>\n",
       "      <td>2017-05-31 20</td>\n",
       "    </tr>\n",
       "    <tr>\n",
       "      <th>18</th>\n",
       "      <td>11000</td>\n",
       "      <td>14.0</td>\n",
       "      <td>106</td>\n",
       "      <td>2017-05-31 21</td>\n",
       "    </tr>\n",
       "    <tr>\n",
       "      <th>19</th>\n",
       "      <td>8000</td>\n",
       "      <td>10.0</td>\n",
       "      <td>106</td>\n",
       "      <td>2017-05-31 22</td>\n",
       "    </tr>\n",
       "    <tr>\n",
       "      <th>20</th>\n",
       "      <td>5000</td>\n",
       "      <td>5.0</td>\n",
       "      <td>106</td>\n",
       "      <td>2017-05-31 23</td>\n",
       "    </tr>\n",
       "    <tr>\n",
       "      <th>21</th>\n",
       "      <td>4000</td>\n",
       "      <td>7.0</td>\n",
       "      <td>107</td>\n",
       "      <td>2017-05-31 20</td>\n",
       "    </tr>\n",
       "    <tr>\n",
       "      <th>22</th>\n",
       "      <td>3000</td>\n",
       "      <td>4.0</td>\n",
       "      <td>107</td>\n",
       "      <td>2017-05-31 21</td>\n",
       "    </tr>\n",
       "    <tr>\n",
       "      <th>23</th>\n",
       "      <td>6000</td>\n",
       "      <td>7.0</td>\n",
       "      <td>107</td>\n",
       "      <td>2017-05-31 22</td>\n",
       "    </tr>\n",
       "    <tr>\n",
       "      <th>24</th>\n",
       "      <td>3000</td>\n",
       "      <td>3.0</td>\n",
       "      <td>107</td>\n",
       "      <td>2017-05-31 23</td>\n",
       "    </tr>\n",
       "    <tr>\n",
       "      <th>25</th>\n",
       "      <td>2000</td>\n",
       "      <td>3.0</td>\n",
       "      <td>108</td>\n",
       "      <td>2017-05-31 20</td>\n",
       "    </tr>\n",
       "    <tr>\n",
       "      <th>26</th>\n",
       "      <td>6000</td>\n",
       "      <td>7.0</td>\n",
       "      <td>108</td>\n",
       "      <td>2017-05-31 21</td>\n",
       "    </tr>\n",
       "    <tr>\n",
       "      <th>27</th>\n",
       "      <td>1000</td>\n",
       "      <td>1.0</td>\n",
       "      <td>108</td>\n",
       "      <td>2017-05-31 22</td>\n",
       "    </tr>\n",
       "    <tr>\n",
       "      <th>28</th>\n",
       "      <td>1000</td>\n",
       "      <td>1.0</td>\n",
       "      <td>108</td>\n",
       "      <td>2017-05-31 23</td>\n",
       "    </tr>\n",
       "    <tr>\n",
       "      <th>29</th>\n",
       "      <td>1000</td>\n",
       "      <td>1.0</td>\n",
       "      <td>109</td>\n",
       "      <td>2017-05-31 20</td>\n",
       "    </tr>\n",
       "  </tbody>\n",
       "</table>\n",
       "</div>"
      ],
      "text/plain": [
       "    holder  rent_freq  rent_place_num      rent_time\n",
       "0     1000        2.0             101  2017-05-31 20\n",
       "1     1000        1.0             101  2017-05-31 21\n",
       "2     2000        2.0             101  2017-05-31 22\n",
       "3     2000        2.0             101  2017-05-31 23\n",
       "4     2000        2.0             102  2017-05-31 20\n",
       "5     4000        5.0             102  2017-05-31 21\n",
       "6     5000        7.0             102  2017-05-31 22\n",
       "7     4000        5.0             102  2017-05-31 23\n",
       "8     3000        5.0             103  2017-05-31 20\n",
       "9     6000        9.0             103  2017-05-31 21\n",
       "10    3000        3.0             103  2017-05-31 22\n",
       "11    1000        2.0             103  2017-05-31 23\n",
       "12    4000        4.0             104  2017-05-31 20\n",
       "13    3000        3.0             104  2017-05-31 21\n",
       "14    5000        6.0             104  2017-05-31 22\n",
       "15    4000        4.0             105  2017-05-31 20\n",
       "16    3000        3.0             105  2017-05-31 22\n",
       "17    6000        8.0             106  2017-05-31 20\n",
       "18   11000       14.0             106  2017-05-31 21\n",
       "19    8000       10.0             106  2017-05-31 22\n",
       "20    5000        5.0             106  2017-05-31 23\n",
       "21    4000        7.0             107  2017-05-31 20\n",
       "22    3000        4.0             107  2017-05-31 21\n",
       "23    6000        7.0             107  2017-05-31 22\n",
       "24    3000        3.0             107  2017-05-31 23\n",
       "25    2000        3.0             108  2017-05-31 20\n",
       "26    6000        7.0             108  2017-05-31 21\n",
       "27    1000        1.0             108  2017-05-31 22\n",
       "28    1000        1.0             108  2017-05-31 23\n",
       "29    1000        1.0             109  2017-05-31 20"
      ]
     },
     "execution_count": 67,
     "metadata": {
      "tags": []
     },
     "output_type": "execute_result"
    }
   ],
   "source": [
    "final_df.head(30)"
   ]
  },
  {
   "cell_type": "markdown",
   "metadata": {},
   "source": [
    "### 4시간 단위 데이터 생성"
   ]
  },
  {
   "cell_type": "code",
   "execution_count": null,
   "metadata": {
    "colab": {},
    "colab_type": "code",
    "id": "U93pWKC5zbdH"
   },
   "outputs": [],
   "source": [
    "final_df['bef_1'] = final_df.groupby('rent_place_num')['rent_freq'].shift(1)\n",
    "final_df['bef_2'] = final_df.groupby('rent_place_num')['rent_freq'].shift(2)\n",
    "final_df['bef_3'] = final_df.groupby('rent_place_num')['rent_freq'].shift(3)\n",
    "final_df['bef_4'] = final_df.groupby('rent_place_num')['rent_freq'].shift(4)"
   ]
  },
  {
   "cell_type": "code",
   "execution_count": null,
   "metadata": {
    "colab": {},
    "colab_type": "code",
    "id": "jdDaDjqo1MkW"
   },
   "outputs": [],
   "source": [
    "final_df = final_df.query('rent_time> \"2017-05-31 23\"')"
   ]
  },
  {
   "cell_type": "code",
   "execution_count": null,
   "metadata": {
    "colab": {
     "base_uri": "https://localhost:8080/",
     "height": 179
    },
    "colab_type": "code",
    "executionInfo": {
     "elapsed": 1434,
     "status": "ok",
     "timestamp": 1544726618772,
     "user": {
      "displayName": "Ya Hwang",
      "photoUrl": "",
      "userId": "13119883512152578788"
     },
     "user_tz": -540
    },
    "id": "nukL9DJo4YRg",
    "outputId": "834ba518-dd49-44df-c733-5bc56d155b75"
   },
   "outputs": [
    {
     "data": {
      "text/plain": [
       "holder               0\n",
       "rent_freq            0\n",
       "rent_place_num       0\n",
       "rent_time            0\n",
       "bef_1              582\n",
       "bef_2             1164\n",
       "bef_3             1746\n",
       "bef_4             2328\n",
       "dtype: int64"
      ]
     },
     "execution_count": 70,
     "metadata": {
      "tags": []
     },
     "output_type": "execute_result"
    }
   ],
   "source": [
    "final_df.isnull().sum()"
   ]
  },
  {
   "cell_type": "code",
   "execution_count": null,
   "metadata": {
    "colab": {},
    "colab_type": "code",
    "id": "2rzC6Iqq1b1v"
   },
   "outputs": [],
   "source": [
    "final_df.fillna(0, inplace=True)"
   ]
  },
  {
   "cell_type": "code",
   "execution_count": null,
   "metadata": {
    "colab": {
     "base_uri": "https://localhost:8080/",
     "height": 204
    },
    "colab_type": "code",
    "executionInfo": {
     "elapsed": 511,
     "status": "ok",
     "timestamp": 1544726761996,
     "user": {
      "displayName": "Ya Hwang",
      "photoUrl": "",
      "userId": "13119883512152578788"
     },
     "user_tz": -540
    },
    "id": "C8lYTGfv1tpP",
    "outputId": "fd44bf02-e0fc-4ef5-b200-a046d8d00fcc"
   },
   "outputs": [
    {
     "data": {
      "text/html": [
       "<div>\n",
       "<style scoped>\n",
       "    .dataframe tbody tr th:only-of-type {\n",
       "        vertical-align: middle;\n",
       "    }\n",
       "\n",
       "    .dataframe tbody tr th {\n",
       "        vertical-align: top;\n",
       "    }\n",
       "\n",
       "    .dataframe thead th {\n",
       "        text-align: right;\n",
       "    }\n",
       "</style>\n",
       "<table border=\"1\" class=\"dataframe\">\n",
       "  <thead>\n",
       "    <tr style=\"text-align: right;\">\n",
       "      <th></th>\n",
       "      <th>holder</th>\n",
       "      <th>rent_freq</th>\n",
       "      <th>rent_place_num</th>\n",
       "      <th>rent_time</th>\n",
       "      <th>bef_1</th>\n",
       "      <th>bef_2</th>\n",
       "      <th>bef_3</th>\n",
       "      <th>bef_4</th>\n",
       "    </tr>\n",
       "  </thead>\n",
       "  <tbody>\n",
       "    <tr>\n",
       "      <th>5099786</th>\n",
       "      <td>15</td>\n",
       "      <td>1.0</td>\n",
       "      <td>3524</td>\n",
       "      <td>2018-05-31 19</td>\n",
       "      <td>1.0</td>\n",
       "      <td>0.0</td>\n",
       "      <td>3.0</td>\n",
       "      <td>1.0</td>\n",
       "    </tr>\n",
       "    <tr>\n",
       "      <th>5099787</th>\n",
       "      <td>15</td>\n",
       "      <td>1.0</td>\n",
       "      <td>3524</td>\n",
       "      <td>2018-05-31 20</td>\n",
       "      <td>1.0</td>\n",
       "      <td>1.0</td>\n",
       "      <td>0.0</td>\n",
       "      <td>3.0</td>\n",
       "    </tr>\n",
       "    <tr>\n",
       "      <th>5099788</th>\n",
       "      <td>15</td>\n",
       "      <td>0.0</td>\n",
       "      <td>3524</td>\n",
       "      <td>2018-05-31 21</td>\n",
       "      <td>1.0</td>\n",
       "      <td>1.0</td>\n",
       "      <td>1.0</td>\n",
       "      <td>0.0</td>\n",
       "    </tr>\n",
       "    <tr>\n",
       "      <th>5099789</th>\n",
       "      <td>15</td>\n",
       "      <td>1.0</td>\n",
       "      <td>3524</td>\n",
       "      <td>2018-05-31 22</td>\n",
       "      <td>0.0</td>\n",
       "      <td>1.0</td>\n",
       "      <td>1.0</td>\n",
       "      <td>1.0</td>\n",
       "    </tr>\n",
       "    <tr>\n",
       "      <th>5099790</th>\n",
       "      <td>15</td>\n",
       "      <td>0.0</td>\n",
       "      <td>3524</td>\n",
       "      <td>2018-05-31 23</td>\n",
       "      <td>1.0</td>\n",
       "      <td>0.0</td>\n",
       "      <td>1.0</td>\n",
       "      <td>1.0</td>\n",
       "    </tr>\n",
       "  </tbody>\n",
       "</table>\n",
       "</div>"
      ],
      "text/plain": [
       "         holder  rent_freq  rent_place_num      rent_time  bef_1  bef_2  \\\n",
       "5099786      15        1.0            3524  2018-05-31 19    1.0    0.0   \n",
       "5099787      15        1.0            3524  2018-05-31 20    1.0    1.0   \n",
       "5099788      15        0.0            3524  2018-05-31 21    1.0    1.0   \n",
       "5099789      15        1.0            3524  2018-05-31 22    0.0    1.0   \n",
       "5099790      15        0.0            3524  2018-05-31 23    1.0    0.0   \n",
       "\n",
       "         bef_3  bef_4  \n",
       "5099786    3.0    1.0  \n",
       "5099787    0.0    3.0  \n",
       "5099788    1.0    0.0  \n",
       "5099789    1.0    1.0  \n",
       "5099790    1.0    1.0  "
      ]
     },
     "execution_count": 72,
     "metadata": {
      "tags": []
     },
     "output_type": "execute_result"
    }
   ],
   "source": [
    "final_df.tail()"
   ]
  },
  {
   "cell_type": "code",
   "execution_count": null,
   "metadata": {
    "colab": {},
    "colab_type": "code",
    "id": "75iyI4xT10P_"
   },
   "outputs": [],
   "source": [
    "final_df = final_df.loc[:,['rent_place_num','rent_time','holder','rent_freq','bef_1','bef_2','bef_3','bef_4']]"
   ]
  },
  {
   "cell_type": "code",
   "execution_count": null,
   "metadata": {
    "colab": {},
    "colab_type": "code",
    "id": "w6jF7JET19UW"
   },
   "outputs": [],
   "source": [
    "final_df.to_csv('bike_demand_train_2.csv',index=False)"
   ]
  },
  {
   "cell_type": "code",
   "execution_count": null,
   "metadata": {
    "colab": {
     "base_uri": "https://localhost:8080/",
     "height": 35
    },
    "colab_type": "code",
    "executionInfo": {
     "elapsed": 537,
     "status": "ok",
     "timestamp": 1544726829811,
     "user": {
      "displayName": "Ya Hwang",
      "photoUrl": "",
      "userId": "13119883512152578788"
     },
     "user_tz": -540
    },
    "id": "olg-S8pW5HDF",
    "outputId": "566c3877-b175-4f45-e739-07ad25fab42f"
   },
   "outputs": [
    {
     "data": {
      "text/plain": [
       "(5098320, 8)"
      ]
     },
     "execution_count": 75,
     "metadata": {
      "tags": []
     },
     "output_type": "execute_result"
    }
   ],
   "source": [
    "final_df.shape"
   ]
  },
  {
   "cell_type": "code",
   "execution_count": null,
   "metadata": {
    "colab": {},
    "colab_type": "code",
    "id": "_z-P8CwO2eQJ"
   },
   "outputs": [],
   "source": [
    "del final_df"
   ]
  },
  {
   "cell_type": "markdown",
   "metadata": {},
   "source": [
    "### 2번 나눠 생성한 데이터 결합"
   ]
  },
  {
   "cell_type": "code",
   "execution_count": null,
   "metadata": {
    "colab": {},
    "colab_type": "code",
    "id": "q4sttpRX5RZ7"
   },
   "outputs": [],
   "source": [
    "a = pd.read_csv('bike_demand_train_1.csv')\n",
    "b = pd.read_csv('bike_demand_train_2.csv')\n",
    "res = pd.concat([a,b])"
   ]
  },
  {
   "cell_type": "code",
   "execution_count": null,
   "metadata": {
    "colab": {
     "base_uri": "https://localhost:8080/",
     "height": 35
    },
    "colab_type": "code",
    "executionInfo": {
     "elapsed": 12940,
     "status": "ok",
     "timestamp": 1544726912646,
     "user": {
      "displayName": "Ya Hwang",
      "photoUrl": "",
      "userId": "13119883512152578788"
     },
     "user_tz": -540
    },
    "id": "PW6YuToo5dkR",
    "outputId": "7c100672-e22f-4f40-8c88-e9e98bd9f118"
   },
   "outputs": [
    {
     "data": {
      "text/plain": [
       "(11116440, 8)"
      ]
     },
     "execution_count": 79,
     "metadata": {
      "tags": []
     },
     "output_type": "execute_result"
    }
   ],
   "source": [
    "res.shape"
   ]
  },
  {
   "cell_type": "code",
   "execution_count": null,
   "metadata": {
    "colab": {},
    "colab_type": "code",
    "id": "y8RwOS095kuJ"
   },
   "outputs": [],
   "source": [
    "res.to_csv('bike_demand_train.csv',index=False)"
   ]
  },
  {
   "cell_type": "code",
   "execution_count": null,
   "metadata": {
    "colab": {},
    "colab_type": "code",
    "id": "02AMlgfJOPv1"
   },
   "outputs": [],
   "source": [
    "bike_df = pd.read_csv('bike_demand_train.csv')"
   ]
  },
  {
   "cell_type": "code",
   "execution_count": null,
   "metadata": {
    "colab": {
     "base_uri": "https://localhost:8080/",
     "height": 204
    },
    "colab_type": "code",
    "executionInfo": {
     "elapsed": 6631,
     "status": "ok",
     "timestamp": 1544801950958,
     "user": {
      "displayName": "Ya Hwang",
      "photoUrl": "",
      "userId": "13119883512152578788"
     },
     "user_tz": -540
    },
    "id": "CI9oGIyXOXDT",
    "outputId": "06043cd4-db7c-46be-b640-2b99f57f19a2"
   },
   "outputs": [
    {
     "data": {
      "text/html": [
       "<div>\n",
       "<style scoped>\n",
       "    .dataframe tbody tr th:only-of-type {\n",
       "        vertical-align: middle;\n",
       "    }\n",
       "\n",
       "    .dataframe tbody tr th {\n",
       "        vertical-align: top;\n",
       "    }\n",
       "\n",
       "    .dataframe thead th {\n",
       "        text-align: right;\n",
       "    }\n",
       "</style>\n",
       "<table border=\"1\" class=\"dataframe\">\n",
       "  <thead>\n",
       "    <tr style=\"text-align: right;\">\n",
       "      <th></th>\n",
       "      <th>rent_place_num</th>\n",
       "      <th>rent_time</th>\n",
       "      <th>holder</th>\n",
       "      <th>rent_freq</th>\n",
       "      <th>bef_1</th>\n",
       "      <th>bef_2</th>\n",
       "      <th>bef_3</th>\n",
       "      <th>bef_4</th>\n",
       "    </tr>\n",
       "  </thead>\n",
       "  <tbody>\n",
       "    <tr>\n",
       "      <th>0</th>\n",
       "      <td>101</td>\n",
       "      <td>2017-06-01 00</td>\n",
       "      <td>5</td>\n",
       "      <td>2.0</td>\n",
       "      <td>2.0</td>\n",
       "      <td>2.0</td>\n",
       "      <td>1.0</td>\n",
       "      <td>2.0</td>\n",
       "    </tr>\n",
       "    <tr>\n",
       "      <th>1</th>\n",
       "      <td>101</td>\n",
       "      <td>2017-06-01 01</td>\n",
       "      <td>5</td>\n",
       "      <td>0.0</td>\n",
       "      <td>2.0</td>\n",
       "      <td>2.0</td>\n",
       "      <td>2.0</td>\n",
       "      <td>1.0</td>\n",
       "    </tr>\n",
       "    <tr>\n",
       "      <th>2</th>\n",
       "      <td>101</td>\n",
       "      <td>2017-06-01 02</td>\n",
       "      <td>5</td>\n",
       "      <td>0.0</td>\n",
       "      <td>0.0</td>\n",
       "      <td>2.0</td>\n",
       "      <td>2.0</td>\n",
       "      <td>2.0</td>\n",
       "    </tr>\n",
       "    <tr>\n",
       "      <th>3</th>\n",
       "      <td>101</td>\n",
       "      <td>2017-06-01 03</td>\n",
       "      <td>5</td>\n",
       "      <td>1.0</td>\n",
       "      <td>0.0</td>\n",
       "      <td>0.0</td>\n",
       "      <td>2.0</td>\n",
       "      <td>2.0</td>\n",
       "    </tr>\n",
       "    <tr>\n",
       "      <th>4</th>\n",
       "      <td>101</td>\n",
       "      <td>2017-06-01 04</td>\n",
       "      <td>5</td>\n",
       "      <td>0.0</td>\n",
       "      <td>1.0</td>\n",
       "      <td>0.0</td>\n",
       "      <td>0.0</td>\n",
       "      <td>2.0</td>\n",
       "    </tr>\n",
       "  </tbody>\n",
       "</table>\n",
       "</div>"
      ],
      "text/plain": [
       "   rent_place_num      rent_time  holder  rent_freq  bef_1  bef_2  bef_3  \\\n",
       "0             101  2017-06-01 00       5        2.0    2.0    2.0    1.0   \n",
       "1             101  2017-06-01 01       5        0.0    2.0    2.0    2.0   \n",
       "2             101  2017-06-01 02       5        0.0    0.0    2.0    2.0   \n",
       "3             101  2017-06-01 03       5        1.0    0.0    0.0    2.0   \n",
       "4             101  2017-06-01 04       5        0.0    1.0    0.0    0.0   \n",
       "\n",
       "   bef_4  \n",
       "0    2.0  \n",
       "1    1.0  \n",
       "2    2.0  \n",
       "3    2.0  \n",
       "4    2.0  "
      ]
     },
     "execution_count": 80,
     "metadata": {
      "tags": []
     },
     "output_type": "execute_result"
    }
   ],
   "source": [
    "bike_df.head()"
   ]
  },
  {
   "cell_type": "markdown",
   "metadata": {},
   "source": [
    "### 거리 데이터 feature 추가"
   ]
  },
  {
   "cell_type": "code",
   "execution_count": null,
   "metadata": {
    "colab": {},
    "colab_type": "code",
    "id": "6g3U6b8YOX2N"
   },
   "outputs": [],
   "source": [
    "loc_df = pd.read_csv('location.csv')\n",
    "loc_df.drop(columns=['holder'],inplace=True)"
   ]
  },
  {
   "cell_type": "code",
   "execution_count": null,
   "metadata": {
    "colab": {},
    "colab_type": "code",
    "id": "7gAMwAz9OazN"
   },
   "outputs": [],
   "source": [
    "loc_df['park_dist'] = loc_df['park_dist'].map(lambda x: 0 if x<0 else x)"
   ]
  },
  {
   "cell_type": "code",
   "execution_count": null,
   "metadata": {
    "colab": {},
    "colab_type": "code",
    "id": "C1Sp11taOxyQ"
   },
   "outputs": [],
   "source": [
    "res_df = pd.merge(bike_df, loc_df, how='left', left_on=['rent_place_num'], right_on=['rent_place_num'])"
   ]
  },
  {
   "cell_type": "code",
   "execution_count": null,
   "metadata": {
    "colab": {
     "base_uri": "https://localhost:8080/",
     "height": 35
    },
    "colab_type": "code",
    "executionInfo": {
     "elapsed": 695,
     "status": "ok",
     "timestamp": 1544802003245,
     "user": {
      "displayName": "Ya Hwang",
      "photoUrl": "",
      "userId": "13119883512152578788"
     },
     "user_tz": -540
    },
    "id": "8kagDf6QPj3g",
    "outputId": "592c8da4-6489-43d2-8680-3512a56f1f2c"
   },
   "outputs": [
    {
     "data": {
      "text/plain": [
       "(11116440, 14)"
      ]
     },
     "execution_count": 84,
     "metadata": {
      "tags": []
     },
     "output_type": "execute_result"
    }
   ],
   "source": [
    "res_df.shape"
   ]
  },
  {
   "cell_type": "code",
   "execution_count": null,
   "metadata": {
    "colab": {},
    "colab_type": "code",
    "id": "ZEyvG3fgP4Pl"
   },
   "outputs": [],
   "source": [
    "res_df = res_df[['rent_place_num', 'rent_time', 'rent_freq', 'bef_1', 'bef_2',\n",
    "       'bef_3', 'bef_4', 'location','holder', 'subway_num', 'altitude', 'han_dist',\n",
    "       'park_dist', 'park_area']]"
   ]
  },
  {
   "cell_type": "code",
   "execution_count": null,
   "metadata": {
    "colab": {
     "base_uri": "https://localhost:8080/",
     "height": 35
    },
    "colab_type": "code",
    "executionInfo": {
     "elapsed": 1264,
     "status": "ok",
     "timestamp": 1544802006480,
     "user": {
      "displayName": "Ya Hwang",
      "photoUrl": "",
      "userId": "13119883512152578788"
     },
     "user_tz": -540
    },
    "id": "Bhtu_eXrP98y",
    "outputId": "540ec33f-5d3f-4b03-ff1b-1acfa139fb86"
   },
   "outputs": [
    {
     "data": {
      "text/plain": [
       "(11116440, 14)"
      ]
     },
     "execution_count": 86,
     "metadata": {
      "tags": []
     },
     "output_type": "execute_result"
    }
   ],
   "source": [
    "res_df.shape"
   ]
  },
  {
   "cell_type": "code",
   "execution_count": null,
   "metadata": {
    "colab": {
     "base_uri": "https://localhost:8080/",
     "height": 204
    },
    "colab_type": "code",
    "executionInfo": {
     "elapsed": 516,
     "status": "ok",
     "timestamp": 1544802008080,
     "user": {
      "displayName": "Ya Hwang",
      "photoUrl": "",
      "userId": "13119883512152578788"
     },
     "user_tz": -540
    },
    "id": "L65UriFZP-na",
    "outputId": "64266604-cc10-4ba6-89e7-3321019e95fd"
   },
   "outputs": [
    {
     "data": {
      "text/html": [
       "<div>\n",
       "<style scoped>\n",
       "    .dataframe tbody tr th:only-of-type {\n",
       "        vertical-align: middle;\n",
       "    }\n",
       "\n",
       "    .dataframe tbody tr th {\n",
       "        vertical-align: top;\n",
       "    }\n",
       "\n",
       "    .dataframe thead th {\n",
       "        text-align: right;\n",
       "    }\n",
       "</style>\n",
       "<table border=\"1\" class=\"dataframe\">\n",
       "  <thead>\n",
       "    <tr style=\"text-align: right;\">\n",
       "      <th></th>\n",
       "      <th>rent_place_num</th>\n",
       "      <th>rent_time</th>\n",
       "      <th>rent_freq</th>\n",
       "      <th>bef_1</th>\n",
       "      <th>bef_2</th>\n",
       "      <th>bef_3</th>\n",
       "      <th>bef_4</th>\n",
       "      <th>location</th>\n",
       "      <th>holder</th>\n",
       "      <th>subway_num</th>\n",
       "      <th>altitude</th>\n",
       "      <th>han_dist</th>\n",
       "      <th>park_dist</th>\n",
       "      <th>park_area</th>\n",
       "    </tr>\n",
       "  </thead>\n",
       "  <tbody>\n",
       "    <tr>\n",
       "      <th>0</th>\n",
       "      <td>101</td>\n",
       "      <td>2017-06-01 00</td>\n",
       "      <td>2.0</td>\n",
       "      <td>2.0</td>\n",
       "      <td>2.0</td>\n",
       "      <td>1.0</td>\n",
       "      <td>2.0</td>\n",
       "      <td>1144068000</td>\n",
       "      <td>5</td>\n",
       "      <td>2</td>\n",
       "      <td>6.011298</td>\n",
       "      <td>0.810084</td>\n",
       "      <td>0.559705</td>\n",
       "      <td>-0.464485</td>\n",
       "    </tr>\n",
       "    <tr>\n",
       "      <th>1</th>\n",
       "      <td>101</td>\n",
       "      <td>2017-06-01 01</td>\n",
       "      <td>0.0</td>\n",
       "      <td>2.0</td>\n",
       "      <td>2.0</td>\n",
       "      <td>2.0</td>\n",
       "      <td>1.0</td>\n",
       "      <td>1144068000</td>\n",
       "      <td>5</td>\n",
       "      <td>2</td>\n",
       "      <td>6.011298</td>\n",
       "      <td>0.810084</td>\n",
       "      <td>0.559705</td>\n",
       "      <td>-0.464485</td>\n",
       "    </tr>\n",
       "    <tr>\n",
       "      <th>2</th>\n",
       "      <td>101</td>\n",
       "      <td>2017-06-01 02</td>\n",
       "      <td>0.0</td>\n",
       "      <td>0.0</td>\n",
       "      <td>2.0</td>\n",
       "      <td>2.0</td>\n",
       "      <td>2.0</td>\n",
       "      <td>1144068000</td>\n",
       "      <td>5</td>\n",
       "      <td>2</td>\n",
       "      <td>6.011298</td>\n",
       "      <td>0.810084</td>\n",
       "      <td>0.559705</td>\n",
       "      <td>-0.464485</td>\n",
       "    </tr>\n",
       "    <tr>\n",
       "      <th>3</th>\n",
       "      <td>101</td>\n",
       "      <td>2017-06-01 03</td>\n",
       "      <td>1.0</td>\n",
       "      <td>0.0</td>\n",
       "      <td>0.0</td>\n",
       "      <td>2.0</td>\n",
       "      <td>2.0</td>\n",
       "      <td>1144068000</td>\n",
       "      <td>5</td>\n",
       "      <td>2</td>\n",
       "      <td>6.011298</td>\n",
       "      <td>0.810084</td>\n",
       "      <td>0.559705</td>\n",
       "      <td>-0.464485</td>\n",
       "    </tr>\n",
       "    <tr>\n",
       "      <th>4</th>\n",
       "      <td>101</td>\n",
       "      <td>2017-06-01 04</td>\n",
       "      <td>0.0</td>\n",
       "      <td>1.0</td>\n",
       "      <td>0.0</td>\n",
       "      <td>0.0</td>\n",
       "      <td>2.0</td>\n",
       "      <td>1144068000</td>\n",
       "      <td>5</td>\n",
       "      <td>2</td>\n",
       "      <td>6.011298</td>\n",
       "      <td>0.810084</td>\n",
       "      <td>0.559705</td>\n",
       "      <td>-0.464485</td>\n",
       "    </tr>\n",
       "  </tbody>\n",
       "</table>\n",
       "</div>"
      ],
      "text/plain": [
       "   rent_place_num      rent_time  rent_freq  bef_1  bef_2  bef_3  bef_4  \\\n",
       "0             101  2017-06-01 00        2.0    2.0    2.0    1.0    2.0   \n",
       "1             101  2017-06-01 01        0.0    2.0    2.0    2.0    1.0   \n",
       "2             101  2017-06-01 02        0.0    0.0    2.0    2.0    2.0   \n",
       "3             101  2017-06-01 03        1.0    0.0    0.0    2.0    2.0   \n",
       "4             101  2017-06-01 04        0.0    1.0    0.0    0.0    2.0   \n",
       "\n",
       "     location  holder  subway_num  altitude  han_dist  park_dist  park_area  \n",
       "0  1144068000       5           2  6.011298  0.810084   0.559705  -0.464485  \n",
       "1  1144068000       5           2  6.011298  0.810084   0.559705  -0.464485  \n",
       "2  1144068000       5           2  6.011298  0.810084   0.559705  -0.464485  \n",
       "3  1144068000       5           2  6.011298  0.810084   0.559705  -0.464485  \n",
       "4  1144068000       5           2  6.011298  0.810084   0.559705  -0.464485  "
      ]
     },
     "execution_count": 87,
     "metadata": {
      "tags": []
     },
     "output_type": "execute_result"
    }
   ],
   "source": [
    "res_df.head()"
   ]
  },
  {
   "cell_type": "code",
   "execution_count": null,
   "metadata": {},
   "outputs": [],
   "source": [
    "res_df.to_csv('bike_demand_addloc_train.csv', index=False)"
   ]
  },
  {
   "cell_type": "code",
   "execution_count": null,
   "metadata": {
    "colab": {},
    "colab_type": "code",
    "id": "w-awpOoAQoAn"
   },
   "outputs": [],
   "source": [
    "del res_df, bike_df, loc_df"
   ]
  },
  {
   "cell_type": "code",
   "execution_count": null,
   "metadata": {
    "colab": {},
    "colab_type": "code",
    "id": "09VGcQSASvZD"
   },
   "outputs": [],
   "source": [
    "res_df.iloc[res_df.query('holder==0').index,2:] = 0"
   ]
  },
  {
   "cell_type": "code",
   "execution_count": null,
   "metadata": {
    "colab": {},
    "colab_type": "code",
    "id": "4o238KJLUvDY"
   },
   "outputs": [],
   "source": [
    "del res_df, bike_df, loc_df"
   ]
  },
  {
   "cell_type": "markdown",
   "metadata": {},
   "source": [
    "### 날씨 feature 추가"
   ]
  },
  {
   "cell_type": "code",
   "execution_count": null,
   "metadata": {
    "colab": {},
    "colab_type": "code",
    "id": "zHYOz7YhUxir"
   },
   "outputs": [],
   "source": [
    "bike_df = pd.read_csv('bike_base_train.csv')\n",
    "time_df = pd.read_csv('Inte_weather.csv')"
   ]
  },
  {
   "cell_type": "code",
   "execution_count": null,
   "metadata": {
    "colab": {},
    "colab_type": "code",
    "id": "d6ODKDweyJW8"
   },
   "outputs": [],
   "source": [
    "time_df.drop(columns=['rent_cnt'], inplace=True)"
   ]
  },
  {
   "cell_type": "code",
   "execution_count": null,
   "metadata": {
    "colab": {},
    "colab_type": "code",
    "id": "9zN-fJbgyaxA"
   },
   "outputs": [],
   "source": [
    "time_df.rename(columns={'rent_num':'rent_place_num','Date':'rent_time'}, inplace=True)\n",
    "time_df['rent_time'] = time_df['rent_time'].map(lambda x: x.split(':')[0])"
   ]
  },
  {
   "cell_type": "code",
   "execution_count": 5,
   "metadata": {
    "colab": {
     "base_uri": "https://localhost:8080/",
     "height": 35
    },
    "colab_type": "code",
    "executionInfo": {
     "elapsed": 156544,
     "status": "ok",
     "timestamp": 1544809834947,
     "user": {
      "displayName": "Hwang YA",
      "photoUrl": "",
      "userId": "01778743567608368008"
     },
     "user_tz": -540
    },
    "id": "PI8UwNZIy6pO",
    "outputId": "cb755aea-1462-4b34-fedb-80fe813bf67b"
   },
   "outputs": [
    {
     "data": {
      "text/plain": [
       "(11116440, 14)"
      ]
     },
     "execution_count": 5,
     "metadata": {
      "tags": []
     },
     "output_type": "execute_result"
    }
   ],
   "source": [
    "bike_df.shape"
   ]
  },
  {
   "cell_type": "code",
   "execution_count": 6,
   "metadata": {
    "colab": {
     "base_uri": "https://localhost:8080/",
     "height": 35
    },
    "colab_type": "code",
    "executionInfo": {
     "elapsed": 120416,
     "status": "ok",
     "timestamp": 1544809837347,
     "user": {
      "displayName": "Hwang YA",
      "photoUrl": "",
      "userId": "01778743567608368008"
     },
     "user_tz": -540
    },
    "id": "LLm2bY8x1RTW",
    "outputId": "17d1d6ff-beed-42ff-d67c-cb95ff3080f2"
   },
   "outputs": [
    {
     "data": {
      "text/plain": [
       "243"
      ]
     },
     "execution_count": 6,
     "metadata": {
      "tags": []
     },
     "output_type": "execute_result"
    }
   ],
   "source": [
    "time_df = time_df.query('rent_time < \"2018-06-01 00\"')\n",
    "import gc\n",
    "gc.collect()"
   ]
  },
  {
   "cell_type": "code",
   "execution_count": 7,
   "metadata": {
    "colab": {
     "base_uri": "https://localhost:8080/",
     "height": 338
    },
    "colab_type": "code",
    "executionInfo": {
     "elapsed": 114331,
     "status": "ok",
     "timestamp": 1544809837347,
     "user": {
      "displayName": "Hwang YA",
      "photoUrl": "",
      "userId": "01778743567608368008"
     },
     "user_tz": -540
    },
    "id": "lJ1gs8Lzyq_v",
    "outputId": "2719c21f-b47c-4118-8b85-21afc62bc152"
   },
   "outputs": [
    {
     "data": {
      "text/html": [
       "<div>\n",
       "<style scoped>\n",
       "    .dataframe tbody tr th:only-of-type {\n",
       "        vertical-align: middle;\n",
       "    }\n",
       "\n",
       "    .dataframe tbody tr th {\n",
       "        vertical-align: top;\n",
       "    }\n",
       "\n",
       "    .dataframe thead th {\n",
       "        text-align: right;\n",
       "    }\n",
       "</style>\n",
       "<table border=\"1\" class=\"dataframe\">\n",
       "  <thead>\n",
       "    <tr style=\"text-align: right;\">\n",
       "      <th></th>\n",
       "      <th>rent_place_num</th>\n",
       "      <th>rent_time</th>\n",
       "      <th>Tem</th>\n",
       "      <th>Rel_Tem</th>\n",
       "      <th>humid</th>\n",
       "      <th>Dew</th>\n",
       "      <th>Pres</th>\n",
       "      <th>Wind</th>\n",
       "      <th>SO2</th>\n",
       "      <th>CO</th>\n",
       "      <th>...</th>\n",
       "      <th>drizzle</th>\n",
       "      <th>shower</th>\n",
       "      <th>snow</th>\n",
       "      <th>sleet</th>\n",
       "      <th>haze</th>\n",
       "      <th>snow_shower</th>\n",
       "      <th>dust</th>\n",
       "      <th>hail</th>\n",
       "      <th>brume</th>\n",
       "      <th>mist</th>\n",
       "    </tr>\n",
       "  </thead>\n",
       "  <tbody>\n",
       "    <tr>\n",
       "      <th>0</th>\n",
       "      <td>101</td>\n",
       "      <td>2017-06-01 00</td>\n",
       "      <td>21.0</td>\n",
       "      <td>21.0</td>\n",
       "      <td>73.0</td>\n",
       "      <td>16.0</td>\n",
       "      <td>1001.0</td>\n",
       "      <td>6.0</td>\n",
       "      <td>0.003</td>\n",
       "      <td>0.3</td>\n",
       "      <td>...</td>\n",
       "      <td>0.0</td>\n",
       "      <td>0.0</td>\n",
       "      <td>0.0</td>\n",
       "      <td>0.0</td>\n",
       "      <td>0.0</td>\n",
       "      <td>0.0</td>\n",
       "      <td>0.0</td>\n",
       "      <td>0.0</td>\n",
       "      <td>0.0</td>\n",
       "      <td>0.0</td>\n",
       "    </tr>\n",
       "    <tr>\n",
       "      <th>1</th>\n",
       "      <td>101</td>\n",
       "      <td>2017-06-01 01</td>\n",
       "      <td>21.0</td>\n",
       "      <td>21.0</td>\n",
       "      <td>73.0</td>\n",
       "      <td>16.0</td>\n",
       "      <td>1001.0</td>\n",
       "      <td>4.0</td>\n",
       "      <td>0.003</td>\n",
       "      <td>0.3</td>\n",
       "      <td>...</td>\n",
       "      <td>0.0</td>\n",
       "      <td>0.0</td>\n",
       "      <td>0.0</td>\n",
       "      <td>0.0</td>\n",
       "      <td>0.0</td>\n",
       "      <td>0.0</td>\n",
       "      <td>0.0</td>\n",
       "      <td>0.0</td>\n",
       "      <td>0.0</td>\n",
       "      <td>0.0</td>\n",
       "    </tr>\n",
       "    <tr>\n",
       "      <th>2</th>\n",
       "      <td>101</td>\n",
       "      <td>2017-06-01 02</td>\n",
       "      <td>20.0</td>\n",
       "      <td>20.0</td>\n",
       "      <td>78.0</td>\n",
       "      <td>16.0</td>\n",
       "      <td>1001.0</td>\n",
       "      <td>9.0</td>\n",
       "      <td>0.003</td>\n",
       "      <td>0.3</td>\n",
       "      <td>...</td>\n",
       "      <td>0.0</td>\n",
       "      <td>0.0</td>\n",
       "      <td>0.0</td>\n",
       "      <td>0.0</td>\n",
       "      <td>0.0</td>\n",
       "      <td>0.0</td>\n",
       "      <td>0.0</td>\n",
       "      <td>0.0</td>\n",
       "      <td>0.0</td>\n",
       "      <td>0.0</td>\n",
       "    </tr>\n",
       "    <tr>\n",
       "      <th>3</th>\n",
       "      <td>101</td>\n",
       "      <td>2017-06-01 03</td>\n",
       "      <td>20.0</td>\n",
       "      <td>20.0</td>\n",
       "      <td>83.0</td>\n",
       "      <td>17.0</td>\n",
       "      <td>1000.0</td>\n",
       "      <td>7.0</td>\n",
       "      <td>0.003</td>\n",
       "      <td>0.3</td>\n",
       "      <td>...</td>\n",
       "      <td>0.0</td>\n",
       "      <td>0.0</td>\n",
       "      <td>0.0</td>\n",
       "      <td>0.0</td>\n",
       "      <td>0.0</td>\n",
       "      <td>0.0</td>\n",
       "      <td>0.0</td>\n",
       "      <td>0.0</td>\n",
       "      <td>0.0</td>\n",
       "      <td>0.0</td>\n",
       "    </tr>\n",
       "    <tr>\n",
       "      <th>4</th>\n",
       "      <td>101</td>\n",
       "      <td>2017-06-01 04</td>\n",
       "      <td>20.0</td>\n",
       "      <td>20.0</td>\n",
       "      <td>83.0</td>\n",
       "      <td>17.0</td>\n",
       "      <td>1000.0</td>\n",
       "      <td>4.0</td>\n",
       "      <td>0.003</td>\n",
       "      <td>0.3</td>\n",
       "      <td>...</td>\n",
       "      <td>0.0</td>\n",
       "      <td>0.0</td>\n",
       "      <td>0.0</td>\n",
       "      <td>0.0</td>\n",
       "      <td>0.0</td>\n",
       "      <td>0.0</td>\n",
       "      <td>0.0</td>\n",
       "      <td>0.0</td>\n",
       "      <td>0.0</td>\n",
       "      <td>1.0</td>\n",
       "    </tr>\n",
       "  </tbody>\n",
       "</table>\n",
       "<p>5 rows × 24 columns</p>\n",
       "</div>"
      ],
      "text/plain": [
       "   rent_place_num      rent_time   Tem  Rel_Tem  humid   Dew    Pres  Wind  \\\n",
       "0             101  2017-06-01 00  21.0     21.0   73.0  16.0  1001.0   6.0   \n",
       "1             101  2017-06-01 01  21.0     21.0   73.0  16.0  1001.0   4.0   \n",
       "2             101  2017-06-01 02  20.0     20.0   78.0  16.0  1001.0   9.0   \n",
       "3             101  2017-06-01 03  20.0     20.0   83.0  17.0  1000.0   7.0   \n",
       "4             101  2017-06-01 04  20.0     20.0   83.0  17.0  1000.0   4.0   \n",
       "\n",
       "     SO2   CO  ...   drizzle  shower  snow  sleet  haze  snow_shower  dust  \\\n",
       "0  0.003  0.3  ...       0.0     0.0   0.0    0.0   0.0          0.0   0.0   \n",
       "1  0.003  0.3  ...       0.0     0.0   0.0    0.0   0.0          0.0   0.0   \n",
       "2  0.003  0.3  ...       0.0     0.0   0.0    0.0   0.0          0.0   0.0   \n",
       "3  0.003  0.3  ...       0.0     0.0   0.0    0.0   0.0          0.0   0.0   \n",
       "4  0.003  0.3  ...       0.0     0.0   0.0    0.0   0.0          0.0   0.0   \n",
       "\n",
       "   hail  brume  mist  \n",
       "0   0.0    0.0   0.0  \n",
       "1   0.0    0.0   0.0  \n",
       "2   0.0    0.0   0.0  \n",
       "3   0.0    0.0   0.0  \n",
       "4   0.0    0.0   1.0  \n",
       "\n",
       "[5 rows x 24 columns]"
      ]
     },
     "execution_count": 7,
     "metadata": {
      "tags": []
     },
     "output_type": "execute_result"
    }
   ],
   "source": [
    "time_df.head()"
   ]
  },
  {
   "cell_type": "code",
   "execution_count": null,
   "metadata": {
    "colab": {},
    "colab_type": "code",
    "id": "1vD9B7tTkggj"
   },
   "outputs": [],
   "source": [
    "res_df = pd.merge(bike_df,time_df,how='left',left_on=['rent_place_num','rent_time'],right_on=['rent_place_num','rent_time'])"
   ]
  },
  {
   "cell_type": "code",
   "execution_count": 11,
   "metadata": {
    "colab": {
     "base_uri": "https://localhost:8080/",
     "height": 35
    },
    "colab_type": "code",
    "executionInfo": {
     "elapsed": 534,
     "status": "ok",
     "timestamp": 1544809888648,
     "user": {
      "displayName": "Hwang YA",
      "photoUrl": "",
      "userId": "01778743567608368008"
     },
     "user_tz": -540
    },
    "id": "KNoZ0XDwktPy",
    "outputId": "24b416d0-5b2f-4c3e-bf9f-fd69ebc0ee70"
   },
   "outputs": [
    {
     "data": {
      "text/plain": [
       "(11116440, 36)"
      ]
     },
     "execution_count": 11,
     "metadata": {
      "tags": []
     },
     "output_type": "execute_result"
    }
   ],
   "source": [
    "del bike_df, time_df\n",
    "res_df.shape"
   ]
  },
  {
   "cell_type": "code",
   "execution_count": null,
   "metadata": {
    "colab": {},
    "colab_type": "code",
    "id": "IyncJEBFbX7R"
   },
   "outputs": [],
   "source": [
    "res_df.drop(columns=['Rel_Tem','location'], inplace=True)"
   ]
  },
  {
   "cell_type": "code",
   "execution_count": null,
   "metadata": {
    "colab": {},
    "colab_type": "code",
    "id": "r9Mk1Si2ltiG"
   },
   "outputs": [],
   "source": [
    "res_df.iloc[res_df.query('holder==0').index,2:] = 0"
   ]
  },
  {
   "cell_type": "code",
   "execution_count": 14,
   "metadata": {
    "colab": {
     "base_uri": "https://localhost:8080/",
     "height": 35
    },
    "colab_type": "code",
    "executionInfo": {
     "elapsed": 2844,
     "status": "ok",
     "timestamp": 1544809912541,
     "user": {
      "displayName": "Hwang YA",
      "photoUrl": "",
      "userId": "01778743567608368008"
     },
     "user_tz": -540
    },
    "id": "qguxo8WipOQy",
    "outputId": "c5357fa0-632a-4a20-b442-d20f0588dd71"
   },
   "outputs": [
    {
     "data": {
      "text/plain": [
       "(11116440, 34)"
      ]
     },
     "execution_count": 14,
     "metadata": {
      "tags": []
     },
     "output_type": "execute_result"
    }
   ],
   "source": [
    "res_df.shape"
   ]
  },
  {
   "cell_type": "code",
   "execution_count": null,
   "metadata": {
    "colab": {},
    "colab_type": "code",
    "id": "OsWCyRCmbdnF"
   },
   "outputs": [],
   "source": [
    "res_df.to_csv('bike_demand_addweather_train.csv', index=False)"
   ]
  },
  {
   "cell_type": "code",
   "execution_count": 17,
   "metadata": {
    "colab": {
     "base_uri": "https://localhost:8080/",
     "height": 338
    },
    "colab_type": "code",
    "executionInfo": {
     "elapsed": 552,
     "status": "ok",
     "timestamp": 1544809967114,
     "user": {
      "displayName": "Hwang YA",
      "photoUrl": "",
      "userId": "01778743567608368008"
     },
     "user_tz": -540
    },
    "id": "v-6MKAtdtsgp",
    "outputId": "598151ea-a604-408b-d758-99dc2b31fbd1"
   },
   "outputs": [
    {
     "data": {
      "text/html": [
       "<div>\n",
       "<style scoped>\n",
       "    .dataframe tbody tr th:only-of-type {\n",
       "        vertical-align: middle;\n",
       "    }\n",
       "\n",
       "    .dataframe tbody tr th {\n",
       "        vertical-align: top;\n",
       "    }\n",
       "\n",
       "    .dataframe thead th {\n",
       "        text-align: right;\n",
       "    }\n",
       "</style>\n",
       "<table border=\"1\" class=\"dataframe\">\n",
       "  <thead>\n",
       "    <tr style=\"text-align: right;\">\n",
       "      <th></th>\n",
       "      <th>rent_place_num</th>\n",
       "      <th>rent_time</th>\n",
       "      <th>rent_freq</th>\n",
       "      <th>bef_1</th>\n",
       "      <th>bef_2</th>\n",
       "      <th>bef_3</th>\n",
       "      <th>bef_4</th>\n",
       "      <th>holder</th>\n",
       "      <th>subway_num</th>\n",
       "      <th>altitude</th>\n",
       "      <th>...</th>\n",
       "      <th>drizzle</th>\n",
       "      <th>shower</th>\n",
       "      <th>snow</th>\n",
       "      <th>sleet</th>\n",
       "      <th>haze</th>\n",
       "      <th>snow_shower</th>\n",
       "      <th>dust</th>\n",
       "      <th>hail</th>\n",
       "      <th>brume</th>\n",
       "      <th>mist</th>\n",
       "    </tr>\n",
       "  </thead>\n",
       "  <tbody>\n",
       "    <tr>\n",
       "      <th>0</th>\n",
       "      <td>101</td>\n",
       "      <td>2017-06-01 00</td>\n",
       "      <td>2.0</td>\n",
       "      <td>2.0</td>\n",
       "      <td>2.0</td>\n",
       "      <td>1.0</td>\n",
       "      <td>2.0</td>\n",
       "      <td>5</td>\n",
       "      <td>2</td>\n",
       "      <td>6.011298</td>\n",
       "      <td>...</td>\n",
       "      <td>0.0</td>\n",
       "      <td>0.0</td>\n",
       "      <td>0.0</td>\n",
       "      <td>0.0</td>\n",
       "      <td>0.0</td>\n",
       "      <td>0.0</td>\n",
       "      <td>0.0</td>\n",
       "      <td>0.0</td>\n",
       "      <td>0.0</td>\n",
       "      <td>0.0</td>\n",
       "    </tr>\n",
       "    <tr>\n",
       "      <th>1</th>\n",
       "      <td>101</td>\n",
       "      <td>2017-06-01 01</td>\n",
       "      <td>0.0</td>\n",
       "      <td>2.0</td>\n",
       "      <td>2.0</td>\n",
       "      <td>2.0</td>\n",
       "      <td>1.0</td>\n",
       "      <td>5</td>\n",
       "      <td>2</td>\n",
       "      <td>6.011298</td>\n",
       "      <td>...</td>\n",
       "      <td>0.0</td>\n",
       "      <td>0.0</td>\n",
       "      <td>0.0</td>\n",
       "      <td>0.0</td>\n",
       "      <td>0.0</td>\n",
       "      <td>0.0</td>\n",
       "      <td>0.0</td>\n",
       "      <td>0.0</td>\n",
       "      <td>0.0</td>\n",
       "      <td>0.0</td>\n",
       "    </tr>\n",
       "    <tr>\n",
       "      <th>2</th>\n",
       "      <td>101</td>\n",
       "      <td>2017-06-01 02</td>\n",
       "      <td>0.0</td>\n",
       "      <td>0.0</td>\n",
       "      <td>2.0</td>\n",
       "      <td>2.0</td>\n",
       "      <td>2.0</td>\n",
       "      <td>5</td>\n",
       "      <td>2</td>\n",
       "      <td>6.011298</td>\n",
       "      <td>...</td>\n",
       "      <td>0.0</td>\n",
       "      <td>0.0</td>\n",
       "      <td>0.0</td>\n",
       "      <td>0.0</td>\n",
       "      <td>0.0</td>\n",
       "      <td>0.0</td>\n",
       "      <td>0.0</td>\n",
       "      <td>0.0</td>\n",
       "      <td>0.0</td>\n",
       "      <td>0.0</td>\n",
       "    </tr>\n",
       "    <tr>\n",
       "      <th>3</th>\n",
       "      <td>101</td>\n",
       "      <td>2017-06-01 03</td>\n",
       "      <td>1.0</td>\n",
       "      <td>0.0</td>\n",
       "      <td>0.0</td>\n",
       "      <td>2.0</td>\n",
       "      <td>2.0</td>\n",
       "      <td>5</td>\n",
       "      <td>2</td>\n",
       "      <td>6.011298</td>\n",
       "      <td>...</td>\n",
       "      <td>0.0</td>\n",
       "      <td>0.0</td>\n",
       "      <td>0.0</td>\n",
       "      <td>0.0</td>\n",
       "      <td>0.0</td>\n",
       "      <td>0.0</td>\n",
       "      <td>0.0</td>\n",
       "      <td>0.0</td>\n",
       "      <td>0.0</td>\n",
       "      <td>0.0</td>\n",
       "    </tr>\n",
       "    <tr>\n",
       "      <th>4</th>\n",
       "      <td>101</td>\n",
       "      <td>2017-06-01 04</td>\n",
       "      <td>0.0</td>\n",
       "      <td>1.0</td>\n",
       "      <td>0.0</td>\n",
       "      <td>0.0</td>\n",
       "      <td>2.0</td>\n",
       "      <td>5</td>\n",
       "      <td>2</td>\n",
       "      <td>6.011298</td>\n",
       "      <td>...</td>\n",
       "      <td>0.0</td>\n",
       "      <td>0.0</td>\n",
       "      <td>0.0</td>\n",
       "      <td>0.0</td>\n",
       "      <td>0.0</td>\n",
       "      <td>0.0</td>\n",
       "      <td>0.0</td>\n",
       "      <td>0.0</td>\n",
       "      <td>0.0</td>\n",
       "      <td>1.0</td>\n",
       "    </tr>\n",
       "  </tbody>\n",
       "</table>\n",
       "<p>5 rows × 34 columns</p>\n",
       "</div>"
      ],
      "text/plain": [
       "   rent_place_num      rent_time  rent_freq  bef_1  bef_2  bef_3  bef_4  \\\n",
       "0             101  2017-06-01 00        2.0    2.0    2.0    1.0    2.0   \n",
       "1             101  2017-06-01 01        0.0    2.0    2.0    2.0    1.0   \n",
       "2             101  2017-06-01 02        0.0    0.0    2.0    2.0    2.0   \n",
       "3             101  2017-06-01 03        1.0    0.0    0.0    2.0    2.0   \n",
       "4             101  2017-06-01 04        0.0    1.0    0.0    0.0    2.0   \n",
       "\n",
       "   holder  subway_num  altitude  ...   drizzle  shower  snow  sleet  haze  \\\n",
       "0       5           2  6.011298  ...       0.0     0.0   0.0    0.0   0.0   \n",
       "1       5           2  6.011298  ...       0.0     0.0   0.0    0.0   0.0   \n",
       "2       5           2  6.011298  ...       0.0     0.0   0.0    0.0   0.0   \n",
       "3       5           2  6.011298  ...       0.0     0.0   0.0    0.0   0.0   \n",
       "4       5           2  6.011298  ...       0.0     0.0   0.0    0.0   0.0   \n",
       "\n",
       "   snow_shower  dust  hail  brume  mist  \n",
       "0          0.0   0.0   0.0    0.0   0.0  \n",
       "1          0.0   0.0   0.0    0.0   0.0  \n",
       "2          0.0   0.0   0.0    0.0   0.0  \n",
       "3          0.0   0.0   0.0    0.0   0.0  \n",
       "4          0.0   0.0   0.0    0.0   1.0  \n",
       "\n",
       "[5 rows x 34 columns]"
      ]
     },
     "execution_count": 17,
     "metadata": {
      "tags": []
     },
     "output_type": "execute_result"
    }
   ],
   "source": [
    "res_df.head()"
   ]
  }
 ],
 "metadata": {
  "accelerator": "TPU",
  "colab": {
   "name": "수요추가하기.ipynb",
   "provenance": [],
   "version": "0.3.2"
  },
  "kernelspec": {
   "display_name": "Python 3",
   "language": "python",
   "name": "python3"
  },
  "language_info": {
   "codemirror_mode": {
    "name": "ipython",
    "version": 3
   },
   "file_extension": ".py",
   "mimetype": "text/x-python",
   "name": "python",
   "nbconvert_exporter": "python",
   "pygments_lexer": "ipython3",
   "version": "3.6.7"
  }
 },
 "nbformat": 4,
 "nbformat_minor": 2
}
