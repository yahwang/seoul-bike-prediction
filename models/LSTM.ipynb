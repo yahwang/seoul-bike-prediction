{
 "cells": [
  {
   "cell_type": "code",
   "execution_count": 1,
   "metadata": {},
   "outputs": [],
   "source": [
    "import tensorflow as tf\n",
    "import numpy as np\n",
    "import pandas as pd\n",
    "import matplotlib\n",
    "import io, os, sys, types\n",
    "import matplotlib.pyplot as plt\n",
    "%matplotlib inline\n",
    "os.chdir('/home/tf12/')"
   ]
  },
  {
   "cell_type": "code",
   "execution_count": 2,
   "metadata": {},
   "outputs": [
    {
     "data": {
      "text/plain": [
       "(11116440, 34)"
      ]
     },
     "execution_count": 2,
     "metadata": {},
     "output_type": "execute_result"
    }
   ],
   "source": [
    "train = pd.read_csv(\"bike_demand_addweather_train.csv\")\n",
    "train.shape"
   ]
  },
  {
   "cell_type": "code",
   "execution_count": 3,
   "metadata": {},
   "outputs": [
    {
     "data": {
      "text/html": [
       "<div>\n",
       "<style scoped>\n",
       "    .dataframe tbody tr th:only-of-type {\n",
       "        vertical-align: middle;\n",
       "    }\n",
       "\n",
       "    .dataframe tbody tr th {\n",
       "        vertical-align: top;\n",
       "    }\n",
       "\n",
       "    .dataframe thead th {\n",
       "        text-align: right;\n",
       "    }\n",
       "</style>\n",
       "<table border=\"1\" class=\"dataframe\">\n",
       "  <thead>\n",
       "    <tr style=\"text-align: right;\">\n",
       "      <th></th>\n",
       "      <th>rent_place_num</th>\n",
       "      <th>rent_time</th>\n",
       "      <th>rent_freq</th>\n",
       "      <th>bef_1</th>\n",
       "      <th>bef_2</th>\n",
       "      <th>bef_3</th>\n",
       "      <th>bef_4</th>\n",
       "      <th>holder</th>\n",
       "      <th>subway_num</th>\n",
       "      <th>altitude</th>\n",
       "      <th>...</th>\n",
       "      <th>drizzle</th>\n",
       "      <th>shower</th>\n",
       "      <th>snow</th>\n",
       "      <th>sleet</th>\n",
       "      <th>haze</th>\n",
       "      <th>snow_shower</th>\n",
       "      <th>dust</th>\n",
       "      <th>hail</th>\n",
       "      <th>brume</th>\n",
       "      <th>mist</th>\n",
       "    </tr>\n",
       "  </thead>\n",
       "  <tbody>\n",
       "    <tr>\n",
       "      <th>0</th>\n",
       "      <td>101</td>\n",
       "      <td>2017-06-01 00</td>\n",
       "      <td>2.0</td>\n",
       "      <td>2.0</td>\n",
       "      <td>2.0</td>\n",
       "      <td>1.0</td>\n",
       "      <td>2.0</td>\n",
       "      <td>5</td>\n",
       "      <td>2</td>\n",
       "      <td>6.011298</td>\n",
       "      <td>...</td>\n",
       "      <td>0.0</td>\n",
       "      <td>0.0</td>\n",
       "      <td>0.0</td>\n",
       "      <td>0.0</td>\n",
       "      <td>0.0</td>\n",
       "      <td>0.0</td>\n",
       "      <td>0.0</td>\n",
       "      <td>0.0</td>\n",
       "      <td>0.0</td>\n",
       "      <td>0.0</td>\n",
       "    </tr>\n",
       "    <tr>\n",
       "      <th>1</th>\n",
       "      <td>101</td>\n",
       "      <td>2017-06-01 01</td>\n",
       "      <td>0.0</td>\n",
       "      <td>2.0</td>\n",
       "      <td>2.0</td>\n",
       "      <td>2.0</td>\n",
       "      <td>1.0</td>\n",
       "      <td>5</td>\n",
       "      <td>2</td>\n",
       "      <td>6.011298</td>\n",
       "      <td>...</td>\n",
       "      <td>0.0</td>\n",
       "      <td>0.0</td>\n",
       "      <td>0.0</td>\n",
       "      <td>0.0</td>\n",
       "      <td>0.0</td>\n",
       "      <td>0.0</td>\n",
       "      <td>0.0</td>\n",
       "      <td>0.0</td>\n",
       "      <td>0.0</td>\n",
       "      <td>0.0</td>\n",
       "    </tr>\n",
       "    <tr>\n",
       "      <th>2</th>\n",
       "      <td>101</td>\n",
       "      <td>2017-06-01 02</td>\n",
       "      <td>0.0</td>\n",
       "      <td>0.0</td>\n",
       "      <td>2.0</td>\n",
       "      <td>2.0</td>\n",
       "      <td>2.0</td>\n",
       "      <td>5</td>\n",
       "      <td>2</td>\n",
       "      <td>6.011298</td>\n",
       "      <td>...</td>\n",
       "      <td>0.0</td>\n",
       "      <td>0.0</td>\n",
       "      <td>0.0</td>\n",
       "      <td>0.0</td>\n",
       "      <td>0.0</td>\n",
       "      <td>0.0</td>\n",
       "      <td>0.0</td>\n",
       "      <td>0.0</td>\n",
       "      <td>0.0</td>\n",
       "      <td>0.0</td>\n",
       "    </tr>\n",
       "  </tbody>\n",
       "</table>\n",
       "<p>3 rows × 34 columns</p>\n",
       "</div>"
      ],
      "text/plain": [
       "   rent_place_num      rent_time  rent_freq  bef_1  bef_2  bef_3  bef_4  \\\n",
       "0             101  2017-06-01 00        2.0    2.0    2.0    1.0    2.0   \n",
       "1             101  2017-06-01 01        0.0    2.0    2.0    2.0    1.0   \n",
       "2             101  2017-06-01 02        0.0    0.0    2.0    2.0    2.0   \n",
       "\n",
       "   holder  subway_num  altitude  ...   drizzle  shower  snow  sleet  haze  \\\n",
       "0       5           2  6.011298  ...       0.0     0.0   0.0    0.0   0.0   \n",
       "1       5           2  6.011298  ...       0.0     0.0   0.0    0.0   0.0   \n",
       "2       5           2  6.011298  ...       0.0     0.0   0.0    0.0   0.0   \n",
       "\n",
       "   snow_shower  dust  hail  brume  mist  \n",
       "0          0.0   0.0   0.0    0.0   0.0  \n",
       "1          0.0   0.0   0.0    0.0   0.0  \n",
       "2          0.0   0.0   0.0    0.0   0.0  \n",
       "\n",
       "[3 rows x 34 columns]"
      ]
     },
     "execution_count": 3,
     "metadata": {},
     "output_type": "execute_result"
    }
   ],
   "source": [
    "train.head(3)"
   ]
  },
  {
   "cell_type": "code",
   "execution_count": 4,
   "metadata": {},
   "outputs": [
    {
     "data": {
      "text/plain": [
       "(914400, 35)"
      ]
     },
     "execution_count": 4,
     "metadata": {},
     "output_type": "execute_result"
    }
   ],
   "source": [
    "test = pd.read_csv(\"bike_demand_addweather_test.csv\")\n",
    "test.shape"
   ]
  },
  {
   "cell_type": "code",
   "execution_count": 5,
   "metadata": {},
   "outputs": [
    {
     "data": {
      "text/html": [
       "<div>\n",
       "<style scoped>\n",
       "    .dataframe tbody tr th:only-of-type {\n",
       "        vertical-align: middle;\n",
       "    }\n",
       "\n",
       "    .dataframe tbody tr th {\n",
       "        vertical-align: top;\n",
       "    }\n",
       "\n",
       "    .dataframe thead th {\n",
       "        text-align: right;\n",
       "    }\n",
       "</style>\n",
       "<table border=\"1\" class=\"dataframe\">\n",
       "  <thead>\n",
       "    <tr style=\"text-align: right;\">\n",
       "      <th></th>\n",
       "      <th>rent_place_num</th>\n",
       "      <th>rent_time</th>\n",
       "      <th>rent_freq</th>\n",
       "      <th>bef_1</th>\n",
       "      <th>bef_2</th>\n",
       "      <th>bef_3</th>\n",
       "      <th>bef_4</th>\n",
       "      <th>holder</th>\n",
       "      <th>subway_num</th>\n",
       "      <th>altitude</th>\n",
       "      <th>...</th>\n",
       "      <th>drizzle</th>\n",
       "      <th>shower</th>\n",
       "      <th>snow</th>\n",
       "      <th>sleet</th>\n",
       "      <th>haze</th>\n",
       "      <th>snow_shower</th>\n",
       "      <th>dust</th>\n",
       "      <th>hail</th>\n",
       "      <th>brume</th>\n",
       "      <th>mist</th>\n",
       "    </tr>\n",
       "  </thead>\n",
       "  <tbody>\n",
       "    <tr>\n",
       "      <th>0</th>\n",
       "      <td>101</td>\n",
       "      <td>2018-06-01 00</td>\n",
       "      <td>1.0</td>\n",
       "      <td>2.0</td>\n",
       "      <td>7.0</td>\n",
       "      <td>3.0</td>\n",
       "      <td>1.0</td>\n",
       "      <td>5</td>\n",
       "      <td>2</td>\n",
       "      <td>6.011298</td>\n",
       "      <td>...</td>\n",
       "      <td>0.0</td>\n",
       "      <td>0.0</td>\n",
       "      <td>0.0</td>\n",
       "      <td>0.0</td>\n",
       "      <td>0.0</td>\n",
       "      <td>0.0</td>\n",
       "      <td>0.0</td>\n",
       "      <td>0.0</td>\n",
       "      <td>0.0</td>\n",
       "      <td>0.0</td>\n",
       "    </tr>\n",
       "    <tr>\n",
       "      <th>1</th>\n",
       "      <td>101</td>\n",
       "      <td>2018-06-01 01</td>\n",
       "      <td>3.0</td>\n",
       "      <td>1.0</td>\n",
       "      <td>2.0</td>\n",
       "      <td>7.0</td>\n",
       "      <td>3.0</td>\n",
       "      <td>5</td>\n",
       "      <td>2</td>\n",
       "      <td>6.011298</td>\n",
       "      <td>...</td>\n",
       "      <td>0.0</td>\n",
       "      <td>0.0</td>\n",
       "      <td>0.0</td>\n",
       "      <td>0.0</td>\n",
       "      <td>0.0</td>\n",
       "      <td>0.0</td>\n",
       "      <td>0.0</td>\n",
       "      <td>0.0</td>\n",
       "      <td>0.0</td>\n",
       "      <td>0.0</td>\n",
       "    </tr>\n",
       "    <tr>\n",
       "      <th>2</th>\n",
       "      <td>101</td>\n",
       "      <td>2018-06-01 02</td>\n",
       "      <td>2.0</td>\n",
       "      <td>3.0</td>\n",
       "      <td>1.0</td>\n",
       "      <td>2.0</td>\n",
       "      <td>7.0</td>\n",
       "      <td>5</td>\n",
       "      <td>2</td>\n",
       "      <td>6.011298</td>\n",
       "      <td>...</td>\n",
       "      <td>0.0</td>\n",
       "      <td>0.0</td>\n",
       "      <td>0.0</td>\n",
       "      <td>0.0</td>\n",
       "      <td>0.0</td>\n",
       "      <td>0.0</td>\n",
       "      <td>0.0</td>\n",
       "      <td>0.0</td>\n",
       "      <td>0.0</td>\n",
       "      <td>0.0</td>\n",
       "    </tr>\n",
       "  </tbody>\n",
       "</table>\n",
       "<p>3 rows × 35 columns</p>\n",
       "</div>"
      ],
      "text/plain": [
       "   rent_place_num      rent_time  rent_freq  bef_1  bef_2  bef_3  bef_4  \\\n",
       "0             101  2018-06-01 00        1.0    2.0    7.0    3.0    1.0   \n",
       "1             101  2018-06-01 01        3.0    1.0    2.0    7.0    3.0   \n",
       "2             101  2018-06-01 02        2.0    3.0    1.0    2.0    7.0   \n",
       "\n",
       "   holder  subway_num  altitude  ...   drizzle  shower  snow  sleet  haze  \\\n",
       "0       5           2  6.011298  ...       0.0     0.0   0.0    0.0   0.0   \n",
       "1       5           2  6.011298  ...       0.0     0.0   0.0    0.0   0.0   \n",
       "2       5           2  6.011298  ...       0.0     0.0   0.0    0.0   0.0   \n",
       "\n",
       "   snow_shower  dust  hail  brume  mist  \n",
       "0          0.0   0.0   0.0    0.0   0.0  \n",
       "1          0.0   0.0   0.0    0.0   0.0  \n",
       "2          0.0   0.0   0.0    0.0   0.0  \n",
       "\n",
       "[3 rows x 35 columns]"
      ]
     },
     "execution_count": 5,
     "metadata": {},
     "output_type": "execute_result"
    }
   ],
   "source": [
    "test.head(3)"
   ]
  },
  {
   "cell_type": "code",
   "execution_count": 6,
   "metadata": {},
   "outputs": [
    {
     "name": "stdout",
     "output_type": "stream",
     "text": [
      "<class 'pandas.core.frame.DataFrame'>\n",
      "RangeIndex: 11116440 entries, 0 to 11116439\n",
      "Data columns (total 34 columns):\n",
      "rent_place_num    int64\n",
      "rent_time         object\n",
      "rent_freq         float64\n",
      "bef_1             float64\n",
      "bef_2             float64\n",
      "bef_3             float64\n",
      "bef_4             float64\n",
      "holder            int64\n",
      "subway_num        int64\n",
      "altitude          float64\n",
      "han_dist          float64\n",
      "park_dist         float64\n",
      "park_area         float64\n",
      "Tem               float64\n",
      "humid             float64\n",
      "Dew               float64\n",
      "Pres              float64\n",
      "Wind              float64\n",
      "SO2               float64\n",
      "CO                float64\n",
      "O3                float64\n",
      "No2               float64\n",
      "PM10              float64\n",
      "rain              float64\n",
      "drizzle           float64\n",
      "shower            float64\n",
      "snow              float64\n",
      "sleet             float64\n",
      "haze              float64\n",
      "snow_shower       float64\n",
      "dust              float64\n",
      "hail              float64\n",
      "brume             float64\n",
      "mist              float64\n",
      "dtypes: float64(30), int64(3), object(1)\n",
      "memory usage: 2.8+ GB\n"
     ]
    }
   ],
   "source": [
    "train.info()"
   ]
  },
  {
   "cell_type": "code",
   "execution_count": 7,
   "metadata": {},
   "outputs": [
    {
     "name": "stdout",
     "output_type": "stream",
     "text": [
      "<class 'pandas.core.frame.DataFrame'>\n",
      "RangeIndex: 914400 entries, 0 to 914399\n",
      "Data columns (total 35 columns):\n",
      "rent_place_num    914400 non-null int64\n",
      "rent_time         914400 non-null object\n",
      "rent_freq         914400 non-null float64\n",
      "bef_1             914400 non-null float64\n",
      "bef_2             914400 non-null float64\n",
      "bef_3             914400 non-null float64\n",
      "bef_4             914400 non-null float64\n",
      "holder            914400 non-null int64\n",
      "subway_num        914400 non-null int64\n",
      "altitude          914400 non-null float64\n",
      "han_dist          914400 non-null float64\n",
      "park_dist         914400 non-null float64\n",
      "park_area         914400 non-null float64\n",
      "Tem               914400 non-null float64\n",
      "Rel_Tem           914400 non-null float64\n",
      "humid             914400 non-null float64\n",
      "Dew               914400 non-null float64\n",
      "Pres              914400 non-null float64\n",
      "Wind              914400 non-null float64\n",
      "SO2               914400 non-null float64\n",
      "CO                914400 non-null float64\n",
      "O3                914400 non-null float64\n",
      "No2               914400 non-null float64\n",
      "PM10              914400 non-null float64\n",
      "rain              914400 non-null float64\n",
      "drizzle           914400 non-null float64\n",
      "shower            914400 non-null float64\n",
      "snow              914400 non-null float64\n",
      "sleet             914400 non-null float64\n",
      "haze              914400 non-null float64\n",
      "snow_shower       914400 non-null float64\n",
      "dust              914400 non-null float64\n",
      "hail              914400 non-null float64\n",
      "brume             914400 non-null float64\n",
      "mist              914400 non-null float64\n",
      "dtypes: float64(31), int64(3), object(1)\n",
      "memory usage: 244.2+ MB\n"
     ]
    }
   ],
   "source": [
    "test.info()"
   ]
  },
  {
   "cell_type": "markdown",
   "metadata": {},
   "source": [
    "## 불필요 columns drop\n",
    "def drop_columns(feature,x):\n",
    "    x.drop(feature, axis = 1, inplace=True)"
   ]
  },
  {
   "cell_type": "markdown",
   "metadata": {},
   "source": [
    "drop_columns([\"rent_time\",\"rent_place_num\"],train)\n",
    "drop_columns([\"rent_time\",\"rent_place_num\"],test)"
   ]
  },
  {
   "cell_type": "code",
   "execution_count": 8,
   "metadata": {},
   "outputs": [],
   "source": [
    "train.drop(columns=['rent_place_num','rent_time'], inplace=True)"
   ]
  },
  {
   "cell_type": "code",
   "execution_count": 9,
   "metadata": {},
   "outputs": [],
   "source": [
    "test.drop(columns=['rent_place_num','rent_time','Rel_Tem'], inplace=True)"
   ]
  },
  {
   "cell_type": "code",
   "execution_count": 10,
   "metadata": {},
   "outputs": [],
   "source": [
    "train['park_dist'] = train['park_dist'].map(lambda x: 0 if x<0 else x)\n",
    "test['park_dist'] = test['park_dist'].map(lambda x: 0 if x<0 else x)"
   ]
  },
  {
   "cell_type": "code",
   "execution_count": 11,
   "metadata": {},
   "outputs": [
    {
     "name": "stdout",
     "output_type": "stream",
     "text": [
      "(11116440, 32)\n",
      "(914400, 32)\n"
     ]
    }
   ],
   "source": [
    "print(train.shape)\n",
    "print(test.shape)"
   ]
  },
  {
   "cell_type": "code",
   "execution_count": 12,
   "metadata": {},
   "outputs": [],
   "source": [
    "## 하이퍼파라미터 튜닝\n",
    "tf.set_random_seed(777)"
   ]
  },
  {
   "cell_type": "code",
   "execution_count": 36,
   "metadata": {},
   "outputs": [],
   "source": [
    "learning_rate= 0.001\n",
    "total_epoch = 10\n",
    "batch_size = 256"
   ]
  },
  {
   "cell_type": "code",
   "execution_count": 14,
   "metadata": {},
   "outputs": [],
   "source": [
    "n_input = 32 # Number of features \n",
    "n_step = 4  # Stride \n",
    "n_hidden = 32\n",
    "n_class = 1"
   ]
  },
  {
   "cell_type": "code",
   "execution_count": 15,
   "metadata": {},
   "outputs": [],
   "source": [
    "## Data scaler\n",
    "def MinMaxScaler(data):\n",
    "    # 데이터 모든숫자들을 최소 값만큼 뺀다.\n",
    "    numerator = data - np.min(data, 0)\n",
    "    # 최대값과 최소 값의 차이(A)를 구한다\n",
    "    denominator = np.max(data, 0) - np.min(data, 0)\n",
    "    # 너무 큰 값이 나오지 않도록 나눈다\n",
    "    return numerator / (denominator + 1e-7)"
   ]
  },
  {
   "cell_type": "code",
   "execution_count": 16,
   "metadata": {},
   "outputs": [],
   "source": [
    "#train = MinMaxScaler(train)\n",
    "x_pd = train\n",
    "y_pd = train.loc[:,[\"rent_freq\"]]\n",
    "#test = MinMaxScaler(test)\n",
    "tx_pd = test\n",
    "ty_pd = test.loc[:,[\"rent_freq\"]]"
   ]
  },
  {
   "cell_type": "code",
   "execution_count": 17,
   "metadata": {},
   "outputs": [
    {
     "name": "stderr",
     "output_type": "stream",
     "text": [
      "/root/.local/share/virtualenvs/tf12-f_aW53tF/lib/python3.6/site-packages/ipykernel_launcher.py:1: FutureWarning: Method .as_matrix will be removed in a future version. Use .values instead.\n",
      "  \"\"\"Entry point for launching an IPython kernel.\n",
      "/root/.local/share/virtualenvs/tf12-f_aW53tF/lib/python3.6/site-packages/ipykernel_launcher.py:2: FutureWarning: Method .as_matrix will be removed in a future version. Use .values instead.\n",
      "  \n",
      "/root/.local/share/virtualenvs/tf12-f_aW53tF/lib/python3.6/site-packages/ipykernel_launcher.py:3: FutureWarning: Method .as_matrix will be removed in a future version. Use .values instead.\n",
      "  This is separate from the ipykernel package so we can avoid doing imports until\n",
      "/root/.local/share/virtualenvs/tf12-f_aW53tF/lib/python3.6/site-packages/ipykernel_launcher.py:4: FutureWarning: Method .as_matrix will be removed in a future version. Use .values instead.\n",
      "  after removing the cwd from sys.path.\n"
     ]
    }
   ],
   "source": [
    "X_train= x_pd.as_matrix()\n",
    "y_train= y_pd.as_matrix().reshape([len(train),n_class])\n",
    "X_test= tx_pd.as_matrix()\n",
    "y_test= ty_pd.as_matrix().reshape([len(test),n_class])"
   ]
  },
  {
   "cell_type": "code",
   "execution_count": 18,
   "metadata": {},
   "outputs": [
    {
     "name": "stdout",
     "output_type": "stream",
     "text": [
      "[[ 2.00000000e+00  2.00000000e+00  2.00000000e+00  1.00000000e+00\n",
      "   2.00000000e+00  5.00000000e+00  2.00000000e+00  6.01129795e+00\n",
      "   8.10084316e-01  5.59705226e-01 -4.64485104e-01  2.10000000e+01\n",
      "   7.30000000e+01  1.60000000e+01  1.00100000e+03  6.00000000e+00\n",
      "   3.00000000e-03  3.00000000e-01  1.20000000e-02  2.40000000e-02\n",
      "   3.20000000e+01  0.00000000e+00  0.00000000e+00  0.00000000e+00\n",
      "   0.00000000e+00  0.00000000e+00  0.00000000e+00  0.00000000e+00\n",
      "   0.00000000e+00  0.00000000e+00  0.00000000e+00  0.00000000e+00]\n",
      " [ 0.00000000e+00  2.00000000e+00  2.00000000e+00  2.00000000e+00\n",
      "   1.00000000e+00  5.00000000e+00  2.00000000e+00  6.01129795e+00\n",
      "   8.10084316e-01  5.59705226e-01 -4.64485104e-01  2.10000000e+01\n",
      "   7.30000000e+01  1.60000000e+01  1.00100000e+03  4.00000000e+00\n",
      "   3.00000000e-03  3.00000000e-01  1.90000000e-02  1.50000000e-02\n",
      "   3.10000000e+01  0.00000000e+00  0.00000000e+00  0.00000000e+00\n",
      "   0.00000000e+00  0.00000000e+00  0.00000000e+00  0.00000000e+00\n",
      "   0.00000000e+00  0.00000000e+00  0.00000000e+00  0.00000000e+00]\n",
      " [ 0.00000000e+00  0.00000000e+00  2.00000000e+00  2.00000000e+00\n",
      "   2.00000000e+00  5.00000000e+00  2.00000000e+00  6.01129795e+00\n",
      "   8.10084316e-01  5.59705226e-01 -4.64485104e-01  2.00000000e+01\n",
      "   7.80000000e+01  1.60000000e+01  1.00100000e+03  9.00000000e+00\n",
      "   3.00000000e-03  3.00000000e-01  2.40000000e-02  1.00000000e-02\n",
      "   3.00000000e+01  0.00000000e+00  0.00000000e+00  0.00000000e+00\n",
      "   0.00000000e+00  0.00000000e+00  0.00000000e+00  0.00000000e+00\n",
      "   0.00000000e+00  0.00000000e+00  0.00000000e+00  0.00000000e+00]\n",
      " [ 1.00000000e+00  0.00000000e+00  0.00000000e+00  2.00000000e+00\n",
      "   2.00000000e+00  5.00000000e+00  2.00000000e+00  6.01129795e+00\n",
      "   8.10084316e-01  5.59705226e-01 -4.64485104e-01  2.00000000e+01\n",
      "   8.30000000e+01  1.70000000e+01  1.00000000e+03  7.00000000e+00\n",
      "   3.00000000e-03  3.00000000e-01  3.00000000e-02  3.00000000e-03\n",
      "   2.90000000e+01  0.00000000e+00  0.00000000e+00  0.00000000e+00\n",
      "   0.00000000e+00  0.00000000e+00  0.00000000e+00  0.00000000e+00\n",
      "   0.00000000e+00  0.00000000e+00  0.00000000e+00  0.00000000e+00]] -> [0.]\n"
     ]
    }
   ],
   "source": [
    "## Build train dataset\n",
    "dataX = []\n",
    "dataY = []\n",
    "for i in range(0, len(y_pd)- n_step):\n",
    "    _x = X_train[i: i + n_step]\n",
    "    _y = y_train[i + n_step]\n",
    "    if i is 0:\n",
    "        print(_x, \"->\", _y)\n",
    "    dataX.append(_x)\n",
    "    dataY.append(_y)\n"
   ]
  },
  {
   "cell_type": "code",
   "execution_count": 19,
   "metadata": {},
   "outputs": [
    {
     "name": "stdout",
     "output_type": "stream",
     "text": [
      "[[ 1.00000000e+00  2.00000000e+00  7.00000000e+00  3.00000000e+00\n",
      "   1.00000000e+00  5.00000000e+00  2.00000000e+00  6.01129795e+00\n",
      "   8.10084316e-01  5.59705226e-01 -4.64485104e-01  1.80000000e+01\n",
      "   6.80000000e+01  1.20000000e+01  1.01400000e+03  2.00000000e+00\n",
      "   3.00000000e-03  5.00000000e-01  3.30000000e-02  2.30000000e-02\n",
      "   3.10000000e+01  0.00000000e+00  0.00000000e+00  0.00000000e+00\n",
      "   0.00000000e+00  0.00000000e+00  0.00000000e+00  0.00000000e+00\n",
      "   0.00000000e+00  0.00000000e+00  0.00000000e+00  0.00000000e+00]\n",
      " [ 3.00000000e+00  1.00000000e+00  2.00000000e+00  7.00000000e+00\n",
      "   3.00000000e+00  5.00000000e+00  2.00000000e+00  6.01129795e+00\n",
      "   8.10084316e-01  5.59705226e-01 -4.64485104e-01  1.70000000e+01\n",
      "   7.70000000e+01  1.30000000e+01  1.01400000e+03  2.00000000e+00\n",
      "   3.00000000e-03  5.00000000e-01  3.10000000e-02  2.40000000e-02\n",
      "   3.40000000e+01  0.00000000e+00  0.00000000e+00  0.00000000e+00\n",
      "   0.00000000e+00  0.00000000e+00  0.00000000e+00  0.00000000e+00\n",
      "   0.00000000e+00  0.00000000e+00  0.00000000e+00  0.00000000e+00]\n",
      " [ 2.00000000e+00  3.00000000e+00  1.00000000e+00  2.00000000e+00\n",
      "   7.00000000e+00  5.00000000e+00  2.00000000e+00  6.01129795e+00\n",
      "   8.10084316e-01  5.59705226e-01 -4.64485104e-01  1.70000000e+01\n",
      "   7.70000000e+01  1.30000000e+01  1.01400000e+03  6.00000000e+00\n",
      "   3.00000000e-03  6.00000000e-01  1.70000000e-02  3.00000000e-02\n",
      "   4.00000000e+01  0.00000000e+00  0.00000000e+00  0.00000000e+00\n",
      "   0.00000000e+00  0.00000000e+00  0.00000000e+00  0.00000000e+00\n",
      "   0.00000000e+00  0.00000000e+00  0.00000000e+00  0.00000000e+00]\n",
      " [ 1.00000000e+00  2.00000000e+00  3.00000000e+00  1.00000000e+00\n",
      "   2.00000000e+00  5.00000000e+00  2.00000000e+00  6.01129795e+00\n",
      "   8.10084316e-01  5.59705226e-01 -4.64485104e-01  1.60000000e+01\n",
      "   7.70000000e+01  1.20000000e+01  1.01400000e+03  2.00000000e+00\n",
      "   3.00000000e-03  7.00000000e-01  6.00000000e-03  3.80000000e-02\n",
      "   4.10000000e+01  0.00000000e+00  0.00000000e+00  0.00000000e+00\n",
      "   0.00000000e+00  0.00000000e+00  0.00000000e+00  0.00000000e+00\n",
      "   0.00000000e+00  0.00000000e+00  0.00000000e+00  0.00000000e+00]] -> [0.]\n"
     ]
    }
   ],
   "source": [
    "## Build test data set \n",
    "dataXt = []\n",
    "dataYt = []\n",
    "for i in range(0, len(ty_pd)- n_step):\n",
    "    _xt = X_test[i: i + n_step]\n",
    "    _yt = y_test[i + n_step]\n",
    "    if i is 0:\n",
    "        print(_xt, \"->\", _yt)\n",
    "    dataXt.append(_xt)\n",
    "    dataYt.append(_yt)"
   ]
  },
  {
   "cell_type": "code",
   "execution_count": 20,
   "metadata": {},
   "outputs": [],
   "source": [
    "train_size= int(len(dataY) * 1.0)\n",
    "test_size = int(len(dataYt)* 1.0)\n",
    "\n",
    "trainX, testX =np.array(dataX[0:train_size]), np.array(dataXt[0:test_size])\n",
    "trainY, testY =np.array(dataY[0:train_size]), np.array(dataYt[0:test_size])"
   ]
  },
  {
   "cell_type": "code",
   "execution_count": 21,
   "metadata": {},
   "outputs": [
    {
     "name": "stdout",
     "output_type": "stream",
     "text": [
      "X Tensor(\"Placeholder:0\", shape=(?, 4, 32), dtype=float32)\n",
      "Y Tensor(\"Placeholder_1:0\", shape=(?, 1), dtype=float32)\n"
     ]
    }
   ],
   "source": [
    "X = tf.placeholder(tf.float32, [None,n_step,n_input])\n",
    "print(\"X\", X)\n",
    "Y = tf.placeholder(tf.float32, [None,n_class])\n",
    "print(\"Y\", Y)"
   ]
  },
  {
   "cell_type": "code",
   "execution_count": 22,
   "metadata": {},
   "outputs": [],
   "source": [
    "targets = tf.placeholder(tf.float32,[None,n_class])\n",
    "predictions = tf.placeholder(tf.float32,[None,n_class])"
   ]
  },
  {
   "cell_type": "code",
   "execution_count": 23,
   "metadata": {},
   "outputs": [],
   "source": [
    "## lstm cell 생성\n",
    "def lstm_cell():\n",
    "    # LSTM셀을 생성한다.\n",
    "    # num_units: 각 Cell 출력 크기\n",
    "    # forget_bias: The bias added to forget gates.\n",
    "    # state_is_tuple: True ==> accepted and returned states are 2-tuples of the c_state and m_state.\n",
    "    # state_is_tuple: False ==> they are concatenated along the column axis.\n",
    "    # cell = tf.contrib.rnn.BasicLSTMCell(num_units=hidden_dim, state_is_tuple=True, activation=tf.sigmoid)\n",
    "    # cell = tf.contrib.rnn.BasicLSTMCell(num_units=hidden_dim, state_is_tuple=True, activation=tf.tanh)\n",
    "    cell = tf.contrib.rnn.BasicLSTMCell(num_units=n_hidden, forget_bias=0.8, state_is_tuple=True, activation=tf.tanh)\n",
    "    return cell"
   ]
  },
  {
   "cell_type": "code",
   "execution_count": 24,
   "metadata": {},
   "outputs": [
    {
     "name": "stdout",
     "output_type": "stream",
     "text": [
      "WARNING:tensorflow:From <ipython-input-23-9a581b23a0f5>:10: BasicLSTMCell.__init__ (from tensorflow.python.ops.rnn_cell_impl) is deprecated and will be removed in a future version.\n",
      "Instructions for updating:\n",
      "This class is deprecated, please use tf.nn.rnn_cell.LSTMCell, which supports all the feature this cell currently has. Please replace the existing code with tf.nn.rnn_cell.LSTMCell(name='basic_lstm_cell').\n"
     ]
    }
   ],
   "source": [
    "## 1 cell layer 모델\n",
    "multi_cells = tf.contrib.rnn.MultiRNNCell([lstm_cell() for _ in range(1)], state_is_tuple=True)"
   ]
  },
  {
   "cell_type": "code",
   "execution_count": 25,
   "metadata": {},
   "outputs": [
    {
     "name": "stdout",
     "output_type": "stream",
     "text": [
      "hypothesis:  Tensor(\"rnn/transpose_1:0\", shape=(?, 4, 32), dtype=float32)\n"
     ]
    }
   ],
   "source": [
    "## lstm output\n",
    "hypothesis, _states = tf.nn.dynamic_rnn(multi_cells, X, dtype=tf.float32)\n",
    "print(\"hypothesis: \", hypothesis)"
   ]
  },
  {
   "cell_type": "code",
   "execution_count": 26,
   "metadata": {},
   "outputs": [],
   "source": [
    "Y_pred = tf.contrib.layers.fully_connected(hypothesis[:, -1], n_class, activation_fn=None)"
   ]
  },
  {
   "cell_type": "code",
   "execution_count": 27,
   "metadata": {},
   "outputs": [],
   "source": [
    "loss = tf.reduce_sum(tf.square(Y_pred - Y))\n",
    "optimizer = tf.train.AdamOptimizer(learning_rate)\n",
    "train = optimizer.minimize(loss)"
   ]
  },
  {
   "cell_type": "code",
   "execution_count": 28,
   "metadata": {},
   "outputs": [],
   "source": [
    "#is_correct = tf.equal(Y_pred,Y, dtype=tf.float32)\n",
    "#accuracy = tf.reduce_mean(tf.cast(is_correct))"
   ]
  },
  {
   "cell_type": "code",
   "execution_count": 29,
   "metadata": {},
   "outputs": [],
   "source": [
    "rmse = tf.sqrt(tf.reduce_mean(tf.squared_difference(targets, predictions)))"
   ]
  },
  {
   "cell_type": "code",
   "execution_count": 30,
   "metadata": {},
   "outputs": [
    {
     "data": {
      "text/plain": [
       "(11116436, 1)"
      ]
     },
     "execution_count": 30,
     "metadata": {},
     "output_type": "execute_result"
    }
   ],
   "source": [
    "np.shape(trainY)"
   ]
  },
  {
   "cell_type": "code",
   "execution_count": 31,
   "metadata": {},
   "outputs": [
    {
     "data": {
      "text/plain": [
       "11116440"
      ]
     },
     "execution_count": 31,
     "metadata": {},
     "output_type": "execute_result"
    }
   ],
   "source": [
    "len(y_train)"
   ]
  },
  {
   "cell_type": "code",
   "execution_count": 32,
   "metadata": {
    "scrolled": false
   },
   "outputs": [],
   "source": [
    "##모델 학습 및 테스트\n",
    "period = int(X_train.shape[0]/batch_size)\n",
    "sess = tf.Session()\n",
    "init = tf.global_variables_initializer()\n",
    "sess.run(init)\n",
    "iEpoch = []\n",
    "iavgCost = []"
   ]
  },
  {
   "cell_type": "code",
   "execution_count": 37,
   "metadata": {},
   "outputs": [
    {
     "name": "stdout",
     "output_type": "stream",
     "text": [
      "Epoch: 0002 Avg cost = 332.42917\n",
      "Epoch: 0003 Avg cost = 333.28421\n",
      "Epoch: 0004 Avg cost = 334.11593\n",
      "Epoch: 0005 Avg cost = 332.79298\n",
      "Epoch: 0006 Avg cost = 334.22818\n",
      "Epoch: 0007 Avg cost = 335.15214\n",
      "Epoch: 0008 Avg cost = 334.38262\n",
      "Epoch: 0009 Avg cost = 332.52335\n",
      "Epoch: 0010 Avg cost = 334.12797\n",
      "Epoch: 0011 Avg cost = 332.64649\n",
      "rmse:  1.8002144\n"
     ]
    }
   ],
   "source": [
    "for epoch in range(1,total_epoch+1):\n",
    "        total_cost = 0\n",
    "        #generator=batch_generator(batch_size,n_step,n_input) ##<<2nd batch selecting method\n",
    "        for i in range(period) :\n",
    "            idx = np.random.choice((len(y_train) -4), batch_size)\n",
    "\n",
    "            x_batch = trainX[idx]\n",
    "            y_batch = trainY[idx]\n",
    "                       \n",
    "            #batch_xs, batch_ys =next(generator)  ##<<2nd batch selecting method\n",
    "                #batch_xs, batch_ys =next_batch(batch_size)\n",
    "                \n",
    "            #_, cost_val = sess.run([train, loss], feed_dict={X: batch_xs, Y: batch_ys})\n",
    "            _, cost_val = sess.run([train, loss], feed_dict={X: x_batch, Y: y_batch})\n",
    "            total_cost += cost_val\n",
    "\n",
    "        print('Epoch:', '%04d' % (epoch + 1),\n",
    "              'Avg cost =', '{:.5f}'.format(total_cost / period))\n",
    "            \n",
    "        iEpoch.append(epoch)\n",
    "        iavgCost.append(total_cost / period)\n",
    "            \n",
    "test_predict = sess.run(Y_pred, feed_dict={X: testX})\n",
    "rmse_val = sess.run(rmse, feed_dict={targets: testY, predictions: test_predict})\n",
    "print(\"rmse: \", rmse_val)"
   ]
  },
  {
   "cell_type": "code",
   "execution_count": 34,
   "metadata": {},
   "outputs": [
    {
     "data": {
      "text/plain": [
       "list"
      ]
     },
     "execution_count": 34,
     "metadata": {},
     "output_type": "execute_result"
    }
   ],
   "source": [
    "type(iEpoch)"
   ]
  },
  {
   "cell_type": "code",
   "execution_count": 38,
   "metadata": {},
   "outputs": [
    {
     "name": "stdout",
     "output_type": "stream",
     "text": [
      "rmse:  1.8002144\n"
     ]
    },
    {
     "data": {
      "image/png": "[encoded data removed]",
      "text/plain": [
       "<Figure size 864x864 with 2 Axes>"
      ]
     },
     "metadata": {
      "needs_background": "light"
     },
     "output_type": "display_data"
    }
   ],
   "source": [
    "test_predict = sess.run(Y_pred, feed_dict={X: testX})\n",
    "np.savetxt('lstm_demand_addweather2.csv', test_predict, delimiter=',', fmt='%f')    \n",
    "# 테스트용 데이터 기준으로 측정지표 rmse를 산출한다\n",
    "rmse_val = sess.run(rmse, feed_dict={targets: testY, predictions: test_predict})\n",
    "print(\"rmse: \", rmse_val)\n",
    "    \n",
    "    \n",
    "fig = plt.figure()\n",
    "fig.set_size_inches(12,12)\n",
    "ax1 = fig.add_subplot(211)\n",
    "ax2 = fig.add_subplot(212)\n",
    "ax1.plot(iEpoch, iavgCost, 'b')\n",
    "ax2.plot(testY[:150], 'r',label= 'Real')\n",
    "ax2.plot(test_predict[:150], 'b:',label='Pred')\n",
    "\n",
    "ax1.set_xlabel(\"Epoch\")\n",
    "ax1.set_ylabel(\"Avg cost\")\n",
    "\n",
    "ax2.set_xlabel(\"Time period\")\n",
    "ax2.set_ylabel(\"Rent freq\")\n",
    "ax2.legend()\n",
    "plt.show()"
   ]
  },
  {
   "cell_type": "code",
   "execution_count": null,
   "metadata": {},
   "outputs": [],
   "source": []
  },
  {
   "cell_type": "code",
   "execution_count": 34,
   "metadata": {},
   "outputs": [
    {
     "data": {
      "image/png": "[encoded data removed]",
      "text/plain": [
       "<Figure size 864x864 with 2 Axes>"
      ]
     },
     "metadata": {
      "needs_background": "light"
     },
     "output_type": "display_data"
    }
   ],
   "source": [
    "fig = plt.figure()\n",
    "fig.set_size_inches(12,12)\n",
    "ax1 = fig.add_subplot(211)\n",
    "ax2 = fig.add_subplot(212)\n",
    "ax1.plot(iEpoch, iavgCost, 'b')\n",
    "ax2.plot(testY[0:200], 'r',label= 'Real')\n",
    "ax2.plot(test_predict[4:204], 'b:',label='Pred')\n",
    "ax2.plot(abs(testY[0:200] - test_predict[4:204])*5, 'k',label='Difference')\n",
    "\n",
    "ax1.set_xlabel(\"Epoch\")\n",
    "ax1.set_ylabel(\"Avg cost\")\n",
    "\n",
    "ax2.set_xlabel(\"Time period\")\n",
    "ax2.set_ylabel(\"Rent freq\")\n",
    "ax2.legend()\n",
    "plt.show()"
   ]
  },
  {
   "cell_type": "code",
   "execution_count": null,
   "metadata": {},
   "outputs": [],
   "source": []
  }
 ],
 "metadata": {
  "kernelspec": {
   "display_name": "Python 3",
   "language": "python",
   "name": "python3"
  },
  "language_info": {
   "codemirror_mode": {
    "name": "ipython",
    "version": 3
   },
   "file_extension": ".py",
   "mimetype": "text/x-python",
   "name": "python",
   "nbconvert_exporter": "python",
   "pygments_lexer": "ipython3",
   "version": "3.6.7"
  }
 },
 "nbformat": 4,
 "nbformat_minor": 2
}
