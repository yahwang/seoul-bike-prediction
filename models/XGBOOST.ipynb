{
 "cells": [
  {
   "cell_type": "code",
   "execution_count": 1,
   "metadata": {},
   "outputs": [],
   "source": [
    "import pandas as pd\n",
    "import os\n",
    "import gc\n",
    "import matplotlib.pyplot as plt\n",
    "import seaborn as sns\n",
    "import numpy as np\n",
    "import xgboost as xgb"
   ]
  },
  {
   "cell_type": "markdown",
   "metadata": {},
   "source": [
    "### Basic Xgboost"
   ]
  },
  {
   "cell_type": "code",
   "execution_count": 2,
   "metadata": {},
   "outputs": [],
   "source": [
    "bike_train = pd.read_csv('bike_demand_all_train.csv')"
   ]
  },
  {
   "cell_type": "code",
   "execution_count": 4,
   "metadata": {},
   "outputs": [
    {
     "data": {
      "text/plain": [
       "21"
      ]
     },
     "execution_count": 4,
     "metadata": {},
     "output_type": "execute_result"
    }
   ],
   "source": [
    "# bike_train.drop(columns=['Unnamed: 0','rent_place_num','rent_time'], inplace=True)\n",
    "trainX = bike_train.drop(columns=['rent_freq'])\n",
    "trainY = bike_train['rent_freq'].map(lambda x: np.log1p(x)).values\n",
    "\n",
    "del bike_train\n",
    "gc.collect()"
   ]
  },
  {
   "cell_type": "code",
   "execution_count": null,
   "metadata": {},
   "outputs": [],
   "source": [
    "bike_test = pd.read_csv('bike_demand_all_test.csv')"
   ]
  },
  {
   "cell_type": "code",
   "execution_count": 6,
   "metadata": {},
   "outputs": [
    {
     "data": {
      "text/plain": [
       "14"
      ]
     },
     "execution_count": 6,
     "metadata": {},
     "output_type": "execute_result"
    }
   ],
   "source": [
    "# bike_test.drop(columns=['Unnamed: 0','rent_place_num','rent_time'], inplace=True)\n",
    "\n",
    "testX = bike_test.drop(columns=['rent_freq'])\n",
    "testY = bike_test['rent_freq'].values\n",
    "\n",
    "del bike_test\n",
    "gc.collect()"
   ]
  },
  {
   "cell_type": "code",
   "execution_count": 7,
   "metadata": {},
   "outputs": [],
   "source": [
    "trainMatrix = xgb.DMatrix(trainX, label=trainY)\n",
    "# trainMatrix.save_binary('bike_demand_all_train.buffer')"
   ]
  },
  {
   "cell_type": "code",
   "execution_count": 8,
   "metadata": {},
   "outputs": [],
   "source": [
    "testMatrix = xgb.DMatrix(testX)\n",
    "# testMatrix.save_binary('bike_demand_all_test.buffer')"
   ]
  },
  {
   "cell_type": "code",
   "execution_count": 9,
   "metadata": {},
   "outputs": [],
   "source": [
    "# eta : learning_rate와 같다.\n",
    "params = {'colsample_bytree': 1.0,\n",
    " 'eta': 0.1,\n",
    " 'gamma': 1.0,\n",
    " 'max_depth': 5,\n",
    " 'subsample': 0.5,\n",
    " 'objective': 'reg:linear',\n",
    " 'eval_metric': 'rmse',\n",
    " 'tree_method': 'gpu_hist'}\n",
    "\n",
    "num_rounds = 30"
   ]
  },
  {
   "cell_type": "code",
   "execution_count": 10,
   "metadata": {},
   "outputs": [],
   "source": [
    "clf = xgb.train(params, trainMatrix, num_rounds)"
   ]
  },
  {
   "cell_type": "code",
   "execution_count": 11,
   "metadata": {},
   "outputs": [],
   "source": [
    "pred = clf.predict(testMatrix)\n",
    "pred = np.expm1(pred)"
   ]
  },
  {
   "cell_type": "code",
   "execution_count": 17,
   "metadata": {},
   "outputs": [],
   "source": [
    "a = np.round(pred)"
   ]
  },
  {
   "cell_type": "code",
   "execution_count": 21,
   "metadata": {},
   "outputs": [
    {
     "name": "stdout",
     "output_type": "stream",
     "text": [
      "1.8403311329527454\n"
     ]
    }
   ],
   "source": [
    "from sklearn.metrics import mean_squared_error\n",
    "mse = mean_squared_error(testY, a)\n",
    "rmse = np.sqrt(mse)\n",
    "print(rmse)"
   ]
  },
  {
   "cell_type": "code",
   "execution_count": 13,
   "metadata": {},
   "outputs": [],
   "source": [
    "clf.save_model('0001.model')"
   ]
  },
  {
   "cell_type": "code",
   "execution_count": null,
   "metadata": {},
   "outputs": [],
   "source": [
    "pred.to_csv('xgboost_demand.csv', index=False)"
   ]
  },
  {
   "cell_type": "markdown",
   "metadata": {},
   "source": [
    "### Bayesian Optimization"
   ]
  },
  {
   "cell_type": "markdown",
   "metadata": {},
   "source": [
    "https://www.kaggle.com/btyuhas/bayesian-optimization-with-xgboost"
   ]
  },
  {
   "cell_type": "code",
   "execution_count": 1,
   "metadata": {},
   "outputs": [],
   "source": [
    "import pandas as pd\n",
    "import os\n",
    "import gc\n",
    "import matplotlib.pyplot as plt\n",
    "import seaborn as sns\n",
    "import numpy as np\n",
    "import xgboost as xgb\n",
    "from bayes_opt import BayesianOptimization"
   ]
  },
  {
   "cell_type": "code",
   "execution_count": 30,
   "metadata": {},
   "outputs": [
    {
     "name": "stdout",
     "output_type": "stream",
     "text": [
      "[06:00:24] 11116440x4 matrix with 44465760 entries loaded from bike_demand_train.buffer\n",
      "[06:00:24] 914400x4 matrix with 3657600 entries loaded from bike_demand_test.buffer\n"
     ]
    }
   ],
   "source": [
    "dtrain = xgb.DMatrix('bike_demand_train.buffer')\n",
    "dtest = xgb.DMatrix('bike_demand_test.buffer')"
   ]
  },
  {
   "cell_type": "code",
   "execution_count": 31,
   "metadata": {},
   "outputs": [],
   "source": [
    "def xgb_evaluate(eta, max_depth, subsample, gamma, colsample_bytree):\n",
    "    params = {'objective': 'reg:linear',\n",
    "              'eval_metric': 'rmse',\n",
    "              'max_depth': int(max_depth),\n",
    "              'subsample': subsample,\n",
    "              'eta': eta,\n",
    "              'gamma': gamma,\n",
    "              'colsample_bytree': colsample_bytree,\n",
    "              'tree_method':'gpu_hist'}\n",
    "    # Used around 1000 boosting rounds in the full model\n",
    "    cv_result = xgb.cv(params, dtrain, num_boost_round=30, nfold=3)    \n",
    "    \n",
    "    # Bayesian optimization only knows how to maximize, not minimize, so return the negative RMSE\n",
    "    return -1.0 * cv_result['test-rmse-mean'].iloc[-1]"
   ]
  },
  {
   "cell_type": "code",
   "execution_count": 32,
   "metadata": {},
   "outputs": [
    {
     "name": "stdout",
     "output_type": "stream",
     "text": [
      "|   iter    |  target   | colsam... |    eta    |   gamma   | max_depth | subsample |\n",
      "-------------------------------------------------------------------------------------\n",
      "| \u001b[0m 1       \u001b[0m | \u001b[0m-0.4078  \u001b[0m | \u001b[0m 0.8898  \u001b[0m | \u001b[0m 0.06977 \u001b[0m | \u001b[0m 0.9894  \u001b[0m | \u001b[0m 3.521   \u001b[0m | \u001b[0m 0.7607  \u001b[0m |\n",
      "| \u001b[95m 2       \u001b[0m | \u001b[95m-0.4059  \u001b[0m | \u001b[95m 0.8359  \u001b[0m | \u001b[95m 0.07466 \u001b[0m | \u001b[95m 0.3788  \u001b[0m | \u001b[95m 4.012   \u001b[0m | \u001b[95m 0.7841  \u001b[0m |\n",
      "| \u001b[95m 3       \u001b[0m | \u001b[95m-0.4056  \u001b[0m | \u001b[95m 0.8663  \u001b[0m | \u001b[95m 0.07381 \u001b[0m | \u001b[95m 0.2668  \u001b[0m | \u001b[95m 6.887   \u001b[0m | \u001b[95m 0.5175  \u001b[0m |\n",
      "| \u001b[0m 4       \u001b[0m | \u001b[0m-0.4329  \u001b[0m | \u001b[0m 0.5156  \u001b[0m | \u001b[0m 0.03493 \u001b[0m | \u001b[0m 0.01656 \u001b[0m | \u001b[0m 6.988   \u001b[0m | \u001b[0m 0.9661  \u001b[0m |\n",
      "| \u001b[95m 5       \u001b[0m | \u001b[95m-0.4042  \u001b[0m | \u001b[95m 1.0     \u001b[0m | \u001b[95m 0.1     \u001b[0m | \u001b[95m 0.0     \u001b[0m | \u001b[95m 3.0     \u001b[0m | \u001b[95m 0.5     \u001b[0m |\n",
      "| \u001b[95m 6       \u001b[0m | \u001b[95m-0.4036  \u001b[0m | \u001b[95m 1.0     \u001b[0m | \u001b[95m 0.1     \u001b[0m | \u001b[95m 1.0     \u001b[0m | \u001b[95m 5.179   \u001b[0m | \u001b[95m 0.5     \u001b[0m |\n",
      "| \u001b[0m 7       \u001b[0m | \u001b[0m-0.4944  \u001b[0m | \u001b[0m 1.0     \u001b[0m | \u001b[0m 0.01    \u001b[0m | \u001b[0m 0.0     \u001b[0m | \u001b[0m 5.254   \u001b[0m | \u001b[0m 0.5     \u001b[0m |\n",
      "| \u001b[0m 8       \u001b[0m | \u001b[0m-0.405   \u001b[0m | \u001b[0m 0.5     \u001b[0m | \u001b[0m 0.1     \u001b[0m | \u001b[0m 1.0     \u001b[0m | \u001b[0m 7.0     \u001b[0m | \u001b[0m 0.5     \u001b[0m |\n",
      "=====================================================================================\n",
      "CPU times: user 7min 2s, sys: 1min 32s, total: 8min 34s\n",
      "Wall time: 8min 12s\n"
     ]
    }
   ],
   "source": [
    "%%time\n",
    "xgb_bo = BayesianOptimization(xgb_evaluate, {'eta': (0.01, 0.1),\n",
    "                                             'max_depth': (3, 7), \n",
    "                                             'subsample': (0.5, 1), \n",
    "                                             'gamma': (0, 1),\n",
    "                                             'colsample_bytree': (0.5, 1)})\n",
    "# Use the expected improvement acquisition function to handle negative numbers\n",
    "# Optimally needs quite a few more initiation points and number of iterations\n",
    "xgb_bo.maximize(init_points=3, n_iter=5, acq='ei')"
   ]
  },
  {
   "cell_type": "code",
   "execution_count": 34,
   "metadata": {},
   "outputs": [],
   "source": [
    "params = xgb_bo.res[4]['params']"
   ]
  },
  {
   "cell_type": "code",
   "execution_count": 36,
   "metadata": {},
   "outputs": [
    {
     "data": {
      "text/plain": [
       "{'colsample_bytree': 1.0,\n",
       " 'eta': 0.1,\n",
       " 'gamma': 0.0,\n",
       " 'max_depth': 3.0,\n",
       " 'subsample': 0.5}"
      ]
     },
     "execution_count": 36,
     "metadata": {},
     "output_type": "execute_result"
    }
   ],
   "source": [
    "params"
   ]
  },
  {
   "cell_type": "code",
   "execution_count": 37,
   "metadata": {},
   "outputs": [],
   "source": [
    "params['max_depth'] = int(params['max_depth'])"
   ]
  },
  {
   "cell_type": "code",
   "execution_count": 38,
   "metadata": {},
   "outputs": [],
   "source": [
    "params['objective'] = 'reg:linear'\n",
    "params['eval_metric'] = 'rmse'\n",
    "params['tree_method'] = 'gpu_hist'"
   ]
  },
  {
   "cell_type": "code",
   "execution_count": 33,
   "metadata": {},
   "outputs": [],
   "source": [
    "# clf = xgb.train(params, dtrain, num_boost_round=50)\n",
    "# clf.save_model('0003.model')\n",
    "\n",
    "# pred = clf.predict(dtest)\n",
    "# pred = np.expm1(pred)"
   ]
  },
  {
   "cell_type": "code",
   "execution_count": 39,
   "metadata": {},
   "outputs": [
    {
     "data": {
      "text/plain": [
       "{'colsample_bytree': 1.0,\n",
       " 'eta': 0.1,\n",
       " 'gamma': 0.0,\n",
       " 'max_depth': 3,\n",
       " 'subsample': 0.5,\n",
       " 'objective': 'reg:linear',\n",
       " 'eval_metric': 'rmse',\n",
       " 'tree_method': 'gpu_hist'}"
      ]
     },
     "execution_count": 39,
     "metadata": {},
     "output_type": "execute_result"
    }
   ],
   "source": [
    "params"
   ]
  },
  {
   "cell_type": "code",
   "execution_count": 40,
   "metadata": {},
   "outputs": [],
   "source": [
    "res = []\n",
    "for i in range(10):\n",
    "    clf = xgb.train(params, dtrain, num_boost_round=50)\n",
    "    pred = clf.predict(dtest)\n",
    "    pred = np.expm1(pred)\n",
    "    res.append(pred)"
   ]
  },
  {
   "cell_type": "code",
   "execution_count": 41,
   "metadata": {},
   "outputs": [],
   "source": [
    "test = pd.DataFrame(res[0])\n",
    "for i in res[1:]:\n",
    "    test = pd.concat([test, pd.DataFrame(i)], axis=1)"
   ]
  },
  {
   "cell_type": "code",
   "execution_count": 42,
   "metadata": {},
   "outputs": [],
   "source": [
    "test.columns=['1st','2nd','3rd','4th','5th','6th','7th','8th','9th','10th']"
   ]
  },
  {
   "cell_type": "code",
   "execution_count": 43,
   "metadata": {},
   "outputs": [],
   "source": [
    "test.to_csv('xgboost_demand.csv', index=False)"
   ]
  },
  {
   "cell_type": "code",
   "execution_count": 17,
   "metadata": {},
   "outputs": [
    {
     "name": "stdout",
     "output_type": "stream",
     "text": [
      "<class 'pandas.core.frame.DataFrame'>\n",
      "RangeIndex: 914400 entries, 0 to 914399\n",
      "Data columns (total 10 columns):\n",
      "1st     914400 non-null float32\n",
      "2nd     914400 non-null float32\n",
      "3rd     914400 non-null float32\n",
      "4rd     914400 non-null float32\n",
      "5th     914400 non-null float32\n",
      "6th     914400 non-null float32\n",
      "7th     914400 non-null float32\n",
      "8th     914400 non-null float32\n",
      "9th     914400 non-null float32\n",
      "10th    914400 non-null float32\n",
      "dtypes: float32(10)\n",
      "memory usage: 34.9 MB\n"
     ]
    }
   ],
   "source": [
    "test.info()"
   ]
  },
  {
   "cell_type": "code",
   "execution_count": 19,
   "metadata": {},
   "outputs": [],
   "source": [
    "bike_test = pd.read_csv('bike_demand_addloc_test.csv')\n",
    "testY = bike_test['rent_freq'].values"
   ]
  },
  {
   "cell_type": "code",
   "execution_count": 47,
   "metadata": {},
   "outputs": [
    {
     "name": "stdout",
     "output_type": "stream",
     "text": [
      "1.8500159243784526\n"
     ]
    }
   ],
   "source": [
    "from sklearn.metrics import mean_squared_error\n",
    "mse = mean_squared_error(testY, test['4th'])\n",
    "rmse = np.sqrt(mse)\n",
    "print(rmse)"
   ]
  },
  {
   "cell_type": "code",
   "execution_count": 33,
   "metadata": {},
   "outputs": [
    {
     "data": {
      "text/plain": [
       "<matplotlib.axes._subplots.AxesSubplot at 0x7f862713ecf8>"
      ]
     },
     "execution_count": 33,
     "metadata": {},
     "output_type": "execute_result"
    },
    {
     "data": {
      "image/png": "[encoded data removed]",
      "text/plain": [
       "<Figure size 432x288 with 1 Axes>"
      ]
     },
     "metadata": {
      "needs_background": "light"
     },
     "output_type": "display_data"
    }
   ],
   "source": [
    "xgb.plot_importance(clf,max_num_features=10)"
   ]
  },
  {
   "cell_type": "code",
   "execution_count": 45,
   "metadata": {},
   "outputs": [
    {
     "data": {
      "text/plain": [
       "<matplotlib.axes._subplots.AxesSubplot at 0x7f860cb54588>"
      ]
     },
     "execution_count": 45,
     "metadata": {},
     "output_type": "execute_result"
    },
    {
     "data": {
      "image/png": "[encoded data removed]",
      "text/plain": [
       "<Figure size 432x288 with 1 Axes>"
      ]
     },
     "metadata": {
      "needs_background": "light"
     },
     "output_type": "display_data"
    }
   ],
   "source": [
    "xgb.plot_importance(clf,max_num_features=10)"
   ]
  }
 ],
 "metadata": {
  "kernelspec": {
   "display_name": "Python 3",
   "language": "python",
   "name": "python3"
  },
  "language_info": {
   "codemirror_mode": {
    "name": "ipython",
    "version": 3
   },
   "file_extension": ".py",
   "mimetype": "text/x-python",
   "name": "python",
   "nbconvert_exporter": "python",
   "pygments_lexer": "ipython3",
   "version": "3.6.7"
  }
 },
 "nbformat": 4,
 "nbformat_minor": 2
}
